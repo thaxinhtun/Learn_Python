{
 "cells": [
  {
   "cell_type": "markdown",
   "id": "0f60c0ad",
   "metadata": {},
   "source": [
    "### chapter 2: Loops and lists"
   ]
  },
  {
   "cell_type": "code",
   "execution_count": 4,
   "id": "42a56315",
   "metadata": {},
   "outputs": [
    {
     "name": "stdout",
     "output_type": "stream",
     "text": [
      "..........................\n",
      "-20 -4.0\n",
      "-15 5.0\n",
      "-10 14.0\n",
      "-5 23.0\n",
      "0 32.0\n",
      "5 41.0\n",
      "10 50.0\n",
      "15 59.0\n",
      "20 68.0\n",
      "25 77.0\n",
      "30 86.0\n",
      "35 95.0\n",
      "40 104.0\n",
      "..........................\n"
     ]
    }
   ],
   "source": [
    "print('..........................')\n",
    "c = -20\n",
    "dc = 5\n",
    "while c <= 40:\n",
    "    f = 9/5*c + 32\n",
    "    print(c,f)\n",
    "    c = c+ dc\n",
    "print('..........................')"
   ]
  },
  {
   "cell_type": "markdown",
   "id": "cec17f91",
   "metadata": {},
   "source": [
    "Boolean Expression\n"
   ]
  },
  {
   "cell_type": "markdown",
   "id": "0645f850",
   "metadata": {},
   "source": [
    "Relational Opearators\n",
    "*relational operators yields only True or false value*\n",
    "* ==, !=, <=, =>,<, > *"
   ]
  },
  {
   "cell_type": "code",
   "execution_count": 2,
   "id": "e3445a4e",
   "metadata": {},
   "outputs": [
    {
     "data": {
      "text/plain": [
       "False"
      ]
     },
     "execution_count": 2,
     "metadata": {},
     "output_type": "execute_result"
    }
   ],
   "source": [
    "C = 41\n",
    "C <= 40\n"
   ]
  },
  {
   "cell_type": "code",
   "execution_count": 3,
   "id": "eb56af5a",
   "metadata": {},
   "outputs": [
    {
     "data": {
      "text/plain": [
       "False"
      ]
     },
     "execution_count": 3,
     "metadata": {},
     "output_type": "execute_result"
    }
   ],
   "source": [
    "C != 41\n"
   ]
  },
  {
   "cell_type": "code",
   "execution_count": 4,
   "id": "8ed4ac2e",
   "metadata": {},
   "outputs": [
    {
     "data": {
      "text/plain": [
       "True"
      ]
     },
     "execution_count": 4,
     "metadata": {},
     "output_type": "execute_result"
    }
   ],
   "source": [
    "C > 30\n"
   ]
  },
  {
   "cell_type": "markdown",
   "id": "bff58cb6",
   "metadata": {},
   "source": [
    "## Combining Boolean expression"
   ]
  },
  {
   "cell_type": "markdown",
   "id": "387757e7",
   "metadata": {},
   "source": [
    "*and or not are logical operators*"
   ]
  },
  {
   "cell_type": "code",
   "execution_count": 5,
   "id": "6745fa2f",
   "metadata": {},
   "outputs": [
    {
     "data": {
      "text/plain": [
       "False"
      ]
     },
     "execution_count": 5,
     "metadata": {},
     "output_type": "execute_result"
    }
   ],
   "source": [
    "x = 0; y=1.2\n",
    "x >= 0 and y < 1"
   ]
  },
  {
   "cell_type": "code",
   "execution_count": 6,
   "id": "e9399861",
   "metadata": {},
   "outputs": [
    {
     "data": {
      "text/plain": [
       "True"
      ]
     },
     "execution_count": 6,
     "metadata": {},
     "output_type": "execute_result"
    }
   ],
   "source": [
    "x >= 0 and y > 1"
   ]
  },
  {
   "cell_type": "code",
   "execution_count": 7,
   "id": "6d543df6",
   "metadata": {},
   "outputs": [
    {
     "data": {
      "text/plain": [
       "False"
      ]
     },
     "execution_count": 7,
     "metadata": {},
     "output_type": "execute_result"
    }
   ],
   "source": [
    "x > 0 and y > 1"
   ]
  },
  {
   "cell_type": "code",
   "execution_count": 8,
   "id": "ade94c68",
   "metadata": {},
   "outputs": [
    {
     "data": {
      "text/plain": [
       "False"
      ]
     },
     "execution_count": 8,
     "metadata": {},
     "output_type": "execute_result"
    }
   ],
   "source": [
    "x > 0 and not y > 1"
   ]
  },
  {
   "cell_type": "code",
   "execution_count": 9,
   "id": "d5b047c7",
   "metadata": {},
   "outputs": [
    {
     "data": {
      "text/plain": [
       "True"
      ]
     },
     "execution_count": 9,
     "metadata": {},
     "output_type": "execute_result"
    }
   ],
   "source": [
    "-1 < x <= 0 # -1 < x and x <= 0"
   ]
  },
  {
   "cell_type": "code",
   "execution_count": 10,
   "id": "9bb77dbe",
   "metadata": {},
   "outputs": [
    {
     "data": {
      "text/plain": [
       "False"
      ]
     },
     "execution_count": 10,
     "metadata": {},
     "output_type": "execute_result"
    }
   ],
   "source": [
    "not (x > 0 or y > 0)"
   ]
  },
  {
   "cell_type": "code",
   "execution_count": 12,
   "id": "226adda2",
   "metadata": {},
   "outputs": [
    {
     "data": {
      "text/plain": [
       "True"
      ]
     },
     "execution_count": 12,
     "metadata": {},
     "output_type": "execute_result"
    }
   ],
   "source": [
    "x >= 0 and not y < 1"
   ]
  },
  {
   "cell_type": "markdown",
   "id": "df8bf13c",
   "metadata": {},
   "source": [
    "##### is x in between zero and one?"
   ]
  },
  {
   "cell_type": "code",
   "execution_count": 13,
   "id": "384774ad",
   "metadata": {},
   "outputs": [
    {
     "data": {
      "text/plain": [
       "True"
      ]
     },
     "execution_count": 13,
     "metadata": {},
     "output_type": "execute_result"
    }
   ],
   "source": [
    "x>=0 and x<=1\n"
   ]
  },
  {
   "cell_type": "code",
   "execution_count": 14,
   "id": "bbd6cff1",
   "metadata": {},
   "outputs": [
    {
     "data": {
      "text/plain": [
       "True"
      ]
     },
     "execution_count": 14,
     "metadata": {},
     "output_type": "execute_result"
    }
   ],
   "source": [
    "y>=1 and y<=2\n"
   ]
  },
  {
   "cell_type": "code",
   "execution_count": 15,
   "id": "65e95156",
   "metadata": {},
   "outputs": [
    {
     "data": {
      "text/plain": [
       "True"
      ]
     },
     "execution_count": 15,
     "metadata": {},
     "output_type": "execute_result"
    }
   ],
   "source": [
    "1 <= y <= 2"
   ]
  },
  {
   "cell_type": "code",
   "execution_count": 16,
   "id": "37699761",
   "metadata": {},
   "outputs": [
    {
     "data": {
      "text/plain": [
       "True"
      ]
     },
     "execution_count": 16,
     "metadata": {},
     "output_type": "execute_result"
    }
   ],
   "source": [
    "0 <= x <= 1"
   ]
  },
  {
   "cell_type": "markdown",
   "id": "c2f1ef58",
   "metadata": {},
   "source": [
    "## List"
   ]
  },
  {
   "cell_type": "markdown",
   "id": "19c2d1a1",
   "metadata": {},
   "source": [
    "##### list are collection of objects"
   ]
  },
  {
   "cell_type": "code",
   "execution_count": 38,
   "id": "d4278ee4",
   "metadata": {},
   "outputs": [
    {
     "data": {
      "text/plain": [
       "[17, 'this is string', -2.3, 0]"
      ]
     },
     "execution_count": 38,
     "metadata": {},
     "output_type": "execute_result"
    }
   ],
   "source": [
    "L = [17 ,'this is string', -2.3, 0]\n",
    "L"
   ]
  },
  {
   "cell_type": "code",
   "execution_count": 39,
   "id": "02e86088",
   "metadata": {},
   "outputs": [
    {
     "data": {
      "text/plain": [
       "list"
      ]
     },
     "execution_count": 39,
     "metadata": {},
     "output_type": "execute_result"
    }
   ],
   "source": [
    "type(L)"
   ]
  },
  {
   "cell_type": "markdown",
   "id": "0f4e47af",
   "metadata": {},
   "source": [
    "## List Initializing and indexing lists"
   ]
  },
  {
   "cell_type": "code",
   "execution_count": 40,
   "id": "899ae693",
   "metadata": {},
   "outputs": [
    {
     "data": {
      "text/plain": [
       "'this is string'"
      ]
     },
     "execution_count": 40,
     "metadata": {},
     "output_type": "execute_result"
    }
   ],
   "source": [
    "L[1]"
   ]
  },
  {
   "cell_type": "code",
   "execution_count": 41,
   "id": "6b90e425",
   "metadata": {},
   "outputs": [
    {
     "data": {
      "text/plain": [
       "0"
      ]
     },
     "execution_count": 41,
     "metadata": {},
     "output_type": "execute_result"
    }
   ],
   "source": [
    "L[3]"
   ]
  },
  {
   "cell_type": "code",
   "execution_count": 42,
   "id": "afacc793",
   "metadata": {},
   "outputs": [
    {
     "data": {
      "text/plain": [
       "3"
      ]
     },
     "execution_count": 42,
     "metadata": {},
     "output_type": "execute_result"
    }
   ],
   "source": [
    "len(L) - 1\n"
   ]
  },
  {
   "cell_type": "markdown",
   "id": "67fbd1ba",
   "metadata": {},
   "source": [
    "## List Operation append, insert , delete"
   ]
  },
  {
   "cell_type": "code",
   "execution_count": 23,
   "id": "0ca2c8ad",
   "metadata": {},
   "outputs": [
    {
     "data": {
      "text/plain": [
       "[-10, -5, 0, 5, 10, 15, 20, 25, 30]"
      ]
     },
     "execution_count": 23,
     "metadata": {},
     "output_type": "execute_result"
    }
   ],
   "source": [
    "C = [-10, -5 , 0 , 5, 10, 15 ,20 ,25, 30]\n",
    "C"
   ]
  },
  {
   "cell_type": "code",
   "execution_count": 24,
   "id": "41aba2b0",
   "metadata": {},
   "outputs": [
    {
     "data": {
      "text/plain": [
       "9"
      ]
     },
     "execution_count": 24,
     "metadata": {},
     "output_type": "execute_result"
    }
   ],
   "source": [
    "len(C)"
   ]
  },
  {
   "cell_type": "code",
   "execution_count": 25,
   "id": "99b668db",
   "metadata": {},
   "outputs": [
    {
     "data": {
      "text/plain": [
       "[-10, -5, 0, 5, 10, 15, 20, 25, 30, 35]"
      ]
     },
     "execution_count": 25,
     "metadata": {},
     "output_type": "execute_result"
    }
   ],
   "source": [
    "C.append(35)\n",
    "C"
   ]
  },
  {
   "cell_type": "code",
   "execution_count": 26,
   "id": "034e6491",
   "metadata": {},
   "outputs": [
    {
     "data": {
      "text/plain": [
       "[-10, -5, 0, 5, 10, 15, 20, 25, 30, 35, 40, 45]"
      ]
     },
     "execution_count": 26,
     "metadata": {},
     "output_type": "execute_result"
    }
   ],
   "source": [
    "C = C+[40,45]\n",
    "C"
   ]
  },
  {
   "cell_type": "code",
   "execution_count": 27,
   "id": "38ec269a",
   "metadata": {},
   "outputs": [
    {
     "data": {
      "text/plain": [
       "12"
      ]
     },
     "execution_count": 27,
     "metadata": {},
     "output_type": "execute_result"
    }
   ],
   "source": [
    "len(C)"
   ]
  },
  {
   "cell_type": "code",
   "execution_count": 28,
   "id": "69808821",
   "metadata": {},
   "outputs": [
    {
     "data": {
      "text/plain": [
       "[-15, -10, -5, 0, 5, 10, 15, 20, 25, 30, 35, 40, 45]"
      ]
     },
     "execution_count": 28,
     "metadata": {},
     "output_type": "execute_result"
    }
   ],
   "source": [
    "C.insert(0,-15)\n",
    "C"
   ]
  },
  {
   "cell_type": "code",
   "execution_count": 29,
   "id": "d5ae7265",
   "metadata": {},
   "outputs": [
    {
     "data": {
      "text/plain": [
       "13"
      ]
     },
     "execution_count": 29,
     "metadata": {},
     "output_type": "execute_result"
    }
   ],
   "source": [
    "len(C)"
   ]
  },
  {
   "cell_type": "code",
   "execution_count": 30,
   "id": "36676f43",
   "metadata": {},
   "outputs": [],
   "source": [
    "del C[2]"
   ]
  },
  {
   "cell_type": "code",
   "execution_count": 31,
   "id": "3dbda5e0",
   "metadata": {},
   "outputs": [
    {
     "data": {
      "text/plain": [
       "[-15, -10, 0, 5, 10, 15, 20, 25, 30, 35, 40, 45]"
      ]
     },
     "execution_count": 31,
     "metadata": {},
     "output_type": "execute_result"
    }
   ],
   "source": [
    "C"
   ]
  },
  {
   "cell_type": "code",
   "execution_count": 32,
   "id": "389303a7",
   "metadata": {},
   "outputs": [
    {
     "data": {
      "text/plain": [
       "[-15, -10, 5, 10, 15, 20, 25, 30, 35, 40, 45]"
      ]
     },
     "execution_count": 32,
     "metadata": {},
     "output_type": "execute_result"
    }
   ],
   "source": [
    "del C[2]\n",
    "C"
   ]
  },
  {
   "cell_type": "code",
   "execution_count": 33,
   "id": "60a15da5",
   "metadata": {},
   "outputs": [
    {
     "data": {
      "text/plain": [
       "[-15, -10, 5, 10, 15, 20, 25, 30, 35, 45]"
      ]
     },
     "execution_count": 33,
     "metadata": {},
     "output_type": "execute_result"
    }
   ],
   "source": [
    "del C[9]\n",
    "C"
   ]
  },
  {
   "cell_type": "code",
   "execution_count": 34,
   "id": "1cb9fc19",
   "metadata": {},
   "outputs": [
    {
     "data": {
      "text/plain": [
       "[-15, -10, -5, 5, 10, 15, 20, 25, 30, 35, 45]"
      ]
     },
     "execution_count": 34,
     "metadata": {},
     "output_type": "execute_result"
    }
   ],
   "source": [
    "C.insert(2,-5)\n",
    "C"
   ]
  },
  {
   "cell_type": "code",
   "execution_count": 35,
   "id": "90a8aae8",
   "metadata": {},
   "outputs": [],
   "source": [
    "C.insert(3,0)"
   ]
  },
  {
   "cell_type": "code",
   "execution_count": 36,
   "id": "0a4e14b0",
   "metadata": {},
   "outputs": [
    {
     "data": {
      "text/plain": [
       "[-15, -10, -5, 0, 5, 10, 15, 20, 25, 30, 35, 45]"
      ]
     },
     "execution_count": 36,
     "metadata": {},
     "output_type": "execute_result"
    }
   ],
   "source": [
    "C"
   ]
  },
  {
   "cell_type": "code",
   "execution_count": 43,
   "id": "879b2440",
   "metadata": {},
   "outputs": [
    {
     "data": {
      "text/plain": [
       "12"
      ]
     },
     "execution_count": 43,
     "metadata": {},
     "output_type": "execute_result"
    }
   ],
   "source": [
    "len(C)"
   ]
  },
  {
   "cell_type": "code",
   "execution_count": 44,
   "id": "6022a0a3",
   "metadata": {},
   "outputs": [
    {
     "data": {
      "text/plain": [
       "45"
      ]
     },
     "execution_count": 44,
     "metadata": {},
     "output_type": "execute_result"
    }
   ],
   "source": [
    "C[11]"
   ]
  },
  {
   "cell_type": "code",
   "execution_count": 45,
   "id": "ed41adf4",
   "metadata": {},
   "outputs": [
    {
     "data": {
      "text/plain": [
       "45"
      ]
     },
     "execution_count": 45,
     "metadata": {},
     "output_type": "execute_result"
    }
   ],
   "source": [
    "C[-1]"
   ]
  },
  {
   "cell_type": "code",
   "execution_count": 46,
   "id": "6f6df035",
   "metadata": {},
   "outputs": [
    {
     "data": {
      "text/plain": [
       "35"
      ]
     },
     "execution_count": 46,
     "metadata": {},
     "output_type": "execute_result"
    }
   ],
   "source": [
    "C[-2]"
   ]
  },
  {
   "cell_type": "code",
   "execution_count": 47,
   "id": "2fee6f98",
   "metadata": {},
   "outputs": [
    {
     "data": {
      "text/plain": [
       "-10"
      ]
     },
     "execution_count": 47,
     "metadata": {},
     "output_type": "execute_result"
    }
   ],
   "source": [
    "C[-11]"
   ]
  },
  {
   "cell_type": "code",
   "execution_count": 48,
   "id": "ac256ebf",
   "metadata": {},
   "outputs": [
    {
     "data": {
      "text/plain": [
       "-15"
      ]
     },
     "execution_count": 48,
     "metadata": {},
     "output_type": "execute_result"
    }
   ],
   "source": [
    "C[-12]"
   ]
  },
  {
   "cell_type": "markdown",
   "id": "853d5d87",
   "metadata": {},
   "source": [
    "## List operation searching, negative indexing"
   ]
  },
  {
   "cell_type": "code",
   "execution_count": 49,
   "id": "2fb22afd",
   "metadata": {},
   "outputs": [
    {
     "data": {
      "text/plain": [
       "[-15, -10, -5, 0, 5, 10, 15, 20, 25, 30, 35, 45]"
      ]
     },
     "execution_count": 49,
     "metadata": {},
     "output_type": "execute_result"
    }
   ],
   "source": [
    "C"
   ]
  },
  {
   "cell_type": "code",
   "execution_count": 52,
   "id": "58391f33",
   "metadata": {},
   "outputs": [
    {
     "data": {
      "text/plain": [
       "5"
      ]
     },
     "execution_count": 52,
     "metadata": {},
     "output_type": "execute_result"
    }
   ],
   "source": [
    "C.index(10)"
   ]
  },
  {
   "cell_type": "code",
   "execution_count": 53,
   "id": "acf10106",
   "metadata": {},
   "outputs": [
    {
     "data": {
      "text/plain": [
       "10"
      ]
     },
     "execution_count": 53,
     "metadata": {},
     "output_type": "execute_result"
    }
   ],
   "source": [
    "C[5]"
   ]
  },
  {
   "cell_type": "code",
   "execution_count": 54,
   "id": "8d52f149",
   "metadata": {},
   "outputs": [
    {
     "data": {
      "text/plain": [
       "True"
      ]
     },
     "execution_count": 54,
     "metadata": {},
     "output_type": "execute_result"
    }
   ],
   "source": [
    "10 in C"
   ]
  },
  {
   "cell_type": "code",
   "execution_count": 55,
   "id": "fb313aba",
   "metadata": {},
   "outputs": [
    {
     "data": {
      "text/plain": [
       "45"
      ]
     },
     "execution_count": 55,
     "metadata": {},
     "output_type": "execute_result"
    }
   ],
   "source": [
    "C[-1]"
   ]
  },
  {
   "cell_type": "code",
   "execution_count": 56,
   "id": "c002b7ff",
   "metadata": {},
   "outputs": [
    {
     "ename": "NameError",
     "evalue": "name 'C' is not defined",
     "output_type": "error",
     "traceback": [
      "\u001b[1;31m---------------------------------------------------------------------------\u001b[0m",
      "\u001b[1;31mNameError\u001b[0m                                 Traceback (most recent call last)",
      "\u001b[1;32m<ipython-input-56-68fed1f5b2fe>\u001b[0m in \u001b[0;36m<module>\u001b[1;34m\u001b[0m\n\u001b[0;32m      1\u001b[0m \u001b[1;32mdel\u001b[0m \u001b[0mC\u001b[0m\u001b[1;33m\u001b[0m\u001b[1;33m\u001b[0m\u001b[0m\n\u001b[1;32m----> 2\u001b[1;33m \u001b[0mC\u001b[0m\u001b[1;33m\u001b[0m\u001b[1;33m\u001b[0m\u001b[0m\n\u001b[0m",
      "\u001b[1;31mNameError\u001b[0m: name 'C' is not defined"
     ]
    }
   ],
   "source": [
    "del C\n",
    "C"
   ]
  },
  {
   "cell_type": "code",
   "execution_count": 57,
   "id": "813eee57",
   "metadata": {},
   "outputs": [],
   "source": [
    "somelist = ['book.text', 'book.log', 'book.pdf']\n",
    "text , log, pdf = somelist"
   ]
  },
  {
   "cell_type": "code",
   "execution_count": 58,
   "id": "483d6972",
   "metadata": {},
   "outputs": [
    {
     "data": {
      "text/plain": [
       "'book.text'"
      ]
     },
     "execution_count": 58,
     "metadata": {},
     "output_type": "execute_result"
    }
   ],
   "source": [
    "text"
   ]
  },
  {
   "cell_type": "code",
   "execution_count": 59,
   "id": "4de1bd94",
   "metadata": {},
   "outputs": [
    {
     "data": {
      "text/plain": [
       "'book.pdf'"
      ]
     },
     "execution_count": 59,
     "metadata": {},
     "output_type": "execute_result"
    }
   ],
   "source": [
    "pdf"
   ]
  },
  {
   "cell_type": "markdown",
   "id": "e85cdfc6",
   "metadata": {},
   "source": [
    "### Loop over elements of a list"
   ]
  },
  {
   "cell_type": "code",
   "execution_count": 63,
   "id": "fd63e2e7",
   "metadata": {},
   "outputs": [
    {
     "name": "stdout",
     "output_type": "stream",
     "text": [
      "Celsius degrees:  0\n",
      "farenheit degrees:  32.0\n",
      "Celsius degrees:  10\n",
      "farenheit degrees:  50.0\n",
      "Celsius degrees:  20\n",
      "farenheit degrees:  68.0\n",
      "Celsius degrees:  40\n",
      "farenheit degrees:  104.0\n",
      "Celsius degrees:  100\n",
      "farenheit degrees:  212.0\n",
      "degrees list has 5 elements\n"
     ]
    }
   ],
   "source": [
    "degrees = [0, 10 , 20 , 40 , 100]\n",
    "for c in degrees:\n",
    "    print(\"Celsius degrees: \", c)\n",
    "    F = 9/5*c + 32\n",
    "    print('farenheit degrees: ', F)\n",
    "print('degrees list has', len(degrees), 'elements')"
   ]
  },
  {
   "cell_type": "markdown",
   "id": "1530394f",
   "metadata": {},
   "source": [
    "### making table with for loop"
   ]
  },
  {
   "cell_type": "code",
   "execution_count": 65,
   "id": "1b919838",
   "metadata": {},
   "outputs": [
    {
     "name": "stdout",
     "output_type": "stream",
     "text": [
      "-20 -4.0\n",
      "-15 5.0\n",
      "-10 14.0\n",
      "-5 23.0\n",
      "0 32.0\n",
      "5 41.0\n",
      "10 50.0\n",
      "15 59.0\n",
      "20 68.0\n",
      "25 77.0\n",
      "30 86.0\n",
      "35 95.0\n",
      "40 104.0\n",
      "The Cdegrees list has 13 rows\n"
     ]
    }
   ],
   "source": [
    "Cdegrees = [-20 , -15, -10 ,-5 ,0 ,5 ,10 ,15, 20, 25, 30, 35, 40]\n",
    "for c in Cdegrees:\n",
    "    F = 9/5*c + 32\n",
    "    print(c, F)\n",
    "print(\"The Cdegrees list has\", len(Cdegrees), \"rows\")"
   ]
  },
  {
   "cell_type": "code",
   "execution_count": 71,
   "id": "7bd335c5",
   "metadata": {},
   "outputs": [
    {
     "name": "stdout",
     "output_type": "stream",
     "text": [
      "  -20   -4.0\n",
      "  -15    5.0\n",
      "  -10   14.0\n",
      "   -5   23.0\n",
      "    0   32.0\n",
      "    5   41.0\n",
      "   10   50.0\n",
      "   15   59.0\n",
      "   20   68.0\n",
      "   25   77.0\n",
      "   30   86.0\n",
      "   35   95.0\n",
      "   40  104.0\n",
      "The Cdegrees list has 13 rows\n"
     ]
    }
   ],
   "source": [
    "index = 0\n",
    "while index < len(Cdegrees):\n",
    "    c = Cdegrees[index]\n",
    "    F = 9/5*c + 32\n",
    "    print('%5d  %5.1f'%(c,F))\n",
    "    index += 1\n",
    "print(\"The Cdegrees list has\", len(Cdegrees), \"rows\")"
   ]
  },
  {
   "cell_type": "markdown",
   "id": "d7550b38",
   "metadata": {},
   "source": [
    "### Mathematical sum via a  loop"
   ]
  },
  {
   "cell_type": "code",
   "execution_count": 72,
   "id": "0de659db",
   "metadata": {},
   "outputs": [
    {
     "name": "stdout",
     "output_type": "stream",
     "text": [
      "1015\n"
     ]
    }
   ],
   "source": [
    "N = 14\n",
    "S = 0\n",
    "for i in range(1, N+1):\n",
    "    S += i**2\n",
    "print(S)"
   ]
  },
  {
   "cell_type": "code",
   "execution_count": 73,
   "id": "17d9c458",
   "metadata": {},
   "outputs": [
    {
     "name": "stdout",
     "output_type": "stream",
     "text": [
      "1015\n"
     ]
    }
   ],
   "source": [
    "N = 14\n",
    "S = 0\n",
    "i = 1\n",
    "while i <= N:\n",
    "    S += i**2\n",
    "    i += 1\n",
    "print(S)\n"
   ]
  },
  {
   "cell_type": "markdown",
   "id": "da9d862f",
   "metadata": {},
   "source": [
    "### Storing table columns as a list"
   ]
  },
  {
   "cell_type": "code",
   "execution_count": 80,
   "id": "d4a23559",
   "metadata": {},
   "outputs": [
    {
     "name": "stdout",
     "output_type": "stream",
     "text": [
      "  -20  -4.0\n",
      "  -15   5.0\n",
      "  -10  14.0\n",
      "   -5  23.0\n",
      "    0  32.0\n",
      "    5  41.0\n",
      "   10  50.0\n",
      "   15  59.0\n",
      "   20  68.0\n",
      "   25  77.0\n",
      "   30  86.0\n",
      "   35  95.0\n",
      "   40 104.0\n",
      "[-4.0, 5.0, 14.0, 23.0, 32.0, 41.0, 50.0, 59.0, 68.0, 77.0, 86.0, 95.0, 104.0]\n",
      "[-20, -15, -10, -5, 0, 5, 10, 15, 20, 25, 30, 35, 40]\n"
     ]
    }
   ],
   "source": [
    "Cdegrees = [-20 , -15, -10 ,-5 ,0 ,5 ,10 ,15, 20, 25, 30, 35, 40]\n",
    "Fdegrees = []\n",
    "for c in Cdegrees:\n",
    "    F = 9/5*c + 32\n",
    "    Fdegrees.append(F)\n",
    "    print('%5d %5.1f'%(c, F))\n",
    "print(Fdegrees)\n",
    "print (Cdegrees)"
   ]
  },
  {
   "cell_type": "markdown",
   "id": "4f4fda45",
   "metadata": {},
   "source": [
    "### For loop with list indices"
   ]
  },
  {
   "cell_type": "code",
   "execution_count": 3,
   "id": "53514cd3",
   "metadata": {},
   "outputs": [
    {
     "name": "stdout",
     "output_type": "stream",
     "text": [
      "0\n",
      "1\n",
      "2\n",
      "3\n",
      "4\n",
      "5\n",
      "6\n",
      "7\n",
      "8\n",
      "9\n"
     ]
    }
   ],
   "source": [
    "for i in range(0,10,1):\n",
    "    print(i)"
   ]
  },
  {
   "cell_type": "code",
   "execution_count": 4,
   "id": "53513b9a",
   "metadata": {},
   "outputs": [
    {
     "name": "stdout",
     "output_type": "stream",
     "text": [
      "0\n",
      "1\n",
      "2\n",
      "3\n",
      "4\n",
      "5\n",
      "6\n",
      "7\n",
      "8\n",
      "9\n"
     ]
    }
   ],
   "source": [
    "for i in range(10):\n",
    "    print(i)"
   ]
  },
  {
   "cell_type": "code",
   "execution_count": 5,
   "id": "b8841e39",
   "metadata": {},
   "outputs": [
    {
     "name": "stdout",
     "output_type": "stream",
     "text": [
      "0\n",
      "1\n",
      "2\n",
      "3\n",
      "4\n",
      "5\n",
      "6\n",
      "7\n",
      "8\n",
      "9\n"
     ]
    }
   ],
   "source": [
    "for i in range(0,10):\n",
    "    print(i)\n"
   ]
  },
  {
   "cell_type": "markdown",
   "id": "2bff40f6",
   "metadata": {},
   "source": [
    "### change the element in a list"
   ]
  },
  {
   "cell_type": "code",
   "execution_count": 9,
   "id": "bc234581",
   "metadata": {},
   "outputs": [
    {
     "name": "stdout",
     "output_type": "stream",
     "text": [
      "12\n",
      "12\n",
      "12\n"
     ]
    }
   ],
   "source": [
    "v = [-1,1,10]\n",
    "for i in range(0,len(v),1):\n",
    "    v[i] = v[i]+2\n",
    "    print(e)"
   ]
  },
  {
   "cell_type": "code",
   "execution_count": 7,
   "id": "a01ab22c",
   "metadata": {},
   "outputs": [
    {
     "data": {
      "text/plain": [
       "[1, 3, 12]"
      ]
     },
     "execution_count": 7,
     "metadata": {},
     "output_type": "execute_result"
    }
   ],
   "source": [
    "v"
   ]
  },
  {
   "cell_type": "code",
   "execution_count": 10,
   "id": "f4594fd9",
   "metadata": {},
   "outputs": [
    {
     "name": "stdout",
     "output_type": "stream",
     "text": [
      "[-5.0, -4.5, -4.0, -3.5, -3.0, -2.5, -2.0, -1.5, -1.0, -0.5, 0.0, 0.5, 1.0, 1.5, 2.0, 2.5]\n",
      "[23.0, 23.9, 24.8, 25.7, 26.6, 27.5, 28.4, 29.3, 30.2, 31.1, 32.0, 32.9, 33.8, 34.7, 35.6, 36.5]\n"
     ]
    }
   ],
   "source": [
    "n = 16\n",
    "Cdegrees =[]\n",
    "Fdegrees = []\n",
    "for i in range(n):\n",
    "    Cdegrees.append(-5 + i*0.5)\n",
    "    Fdegrees.append(9/5*Cdegrees[i] + 32)\n",
    "print(Cdegrees)\n",
    "print(Fdegrees)"
   ]
  },
  {
   "cell_type": "code",
   "execution_count": 11,
   "id": "1285ad37",
   "metadata": {},
   "outputs": [
    {
     "data": {
      "text/plain": [
       "16"
      ]
     },
     "execution_count": 11,
     "metadata": {},
     "output_type": "execute_result"
    }
   ],
   "source": [
    "n"
   ]
  },
  {
   "cell_type": "markdown",
   "id": "9877322e",
   "metadata": {},
   "source": [
    "### List comprehension: Compact creation of lists"
   ]
  },
  {
   "cell_type": "code",
   "execution_count": 12,
   "id": "0afe964b",
   "metadata": {},
   "outputs": [
    {
     "name": "stdout",
     "output_type": "stream",
     "text": [
      "[-5.0, -4.5, -4.0, -3.5, -3.0, -2.5, -2.0, -1.5, -1.0, -0.5, 0.0, 0.5, 1.0, 1.5, 2.0, 2.5]\n",
      "[23.0, 23.9, 24.8, 25.7, 26.6, 27.5, 28.4, 29.3, 30.2, 31.1, 32.0, 32.9, 33.8, 34.7, 35.6, 36.5]\n"
     ]
    }
   ],
   "source": [
    "Cdegrees2 = [-20 + i*5 for i in range(n)]\n",
    "Fdegrees2 = [9/5*C + 32 for C in Cdegrees2 ]\n",
    "print(Cdegrees)\n",
    "print(Fdegrees)"
   ]
  },
  {
   "cell_type": "markdown",
   "id": "eeb9c83a",
   "metadata": {},
   "source": [
    "### Print out first 10 even numbers"
   ]
  },
  {
   "cell_type": "code",
   "execution_count": 15,
   "id": "1c1c4635",
   "metadata": {},
   "outputs": [
    {
     "name": "stdout",
     "output_type": "stream",
     "text": [
      "[2, 4, 6, 8, 10, 12, 14, 16, 18, 20]\n"
     ]
    }
   ],
   "source": [
    "n = 10\n",
    "Evennumber = []\n",
    "for i in range(n):\n",
    "    Evennumber.append(2+i*2)\n",
    "print(Evennumber)"
   ]
  },
  {
   "cell_type": "code",
   "execution_count": 18,
   "id": "5f0bc0d5",
   "metadata": {},
   "outputs": [
    {
     "name": "stdout",
     "output_type": "stream",
     "text": [
      "[1, 3, 5, 7, 9, 11, 13, 15, 17, 19]\n"
     ]
    }
   ],
   "source": [
    "odd = [ 1+i*2 for i in range(n)]\n",
    "print(odd)"
   ]
  },
  {
   "cell_type": "markdown",
   "id": "b0290b7c",
   "metadata": {},
   "source": [
    "### Tranversing multiple lists simultameously"
   ]
  },
  {
   "cell_type": "code",
   "execution_count": 19,
   "id": "a0d30807",
   "metadata": {},
   "outputs": [
    {
     "name": "stdout",
     "output_type": "stream",
     "text": [
      "[-5.0, -4.5, -4.0, -3.5, -3.0, -2.5, -2.0, -1.5, -1.0, -0.5, 0.0, 0.5, 1.0, 1.5, 2.0, 2.5]\n",
      "[-5.0, -4.5, -4.0, -3.5, -3.0, -2.5, -2.0, -1.5, -1.0, -0.5, 0.0, 0.5, 1.0, 1.5, 2.0, 2.5]\n",
      "[-5.0, -4.5, -4.0, -3.5, -3.0, -2.5, -2.0, -1.5, -1.0, -0.5, 0.0, 0.5, 1.0, 1.5, 2.0, 2.5]\n",
      "[-5.0, -4.5, -4.0, -3.5, -3.0, -2.5, -2.0, -1.5, -1.0, -0.5, 0.0, 0.5, 1.0, 1.5, 2.0, 2.5]\n",
      "[-5.0, -4.5, -4.0, -3.5, -3.0, -2.5, -2.0, -1.5, -1.0, -0.5, 0.0, 0.5, 1.0, 1.5, 2.0, 2.5]\n",
      "[-5.0, -4.5, -4.0, -3.5, -3.0, -2.5, -2.0, -1.5, -1.0, -0.5, 0.0, 0.5, 1.0, 1.5, 2.0, 2.5]\n",
      "[-5.0, -4.5, -4.0, -3.5, -3.0, -2.5, -2.0, -1.5, -1.0, -0.5, 0.0, 0.5, 1.0, 1.5, 2.0, 2.5]\n",
      "[-5.0, -4.5, -4.0, -3.5, -3.0, -2.5, -2.0, -1.5, -1.0, -0.5, 0.0, 0.5, 1.0, 1.5, 2.0, 2.5]\n",
      "[-5.0, -4.5, -4.0, -3.5, -3.0, -2.5, -2.0, -1.5, -1.0, -0.5, 0.0, 0.5, 1.0, 1.5, 2.0, 2.5]\n",
      "[-5.0, -4.5, -4.0, -3.5, -3.0, -2.5, -2.0, -1.5, -1.0, -0.5, 0.0, 0.5, 1.0, 1.5, 2.0, 2.5]\n",
      "[-5.0, -4.5, -4.0, -3.5, -3.0, -2.5, -2.0, -1.5, -1.0, -0.5, 0.0, 0.5, 1.0, 1.5, 2.0, 2.5]\n",
      "[-5.0, -4.5, -4.0, -3.5, -3.0, -2.5, -2.0, -1.5, -1.0, -0.5, 0.0, 0.5, 1.0, 1.5, 2.0, 2.5]\n",
      "[-5.0, -4.5, -4.0, -3.5, -3.0, -2.5, -2.0, -1.5, -1.0, -0.5, 0.0, 0.5, 1.0, 1.5, 2.0, 2.5]\n",
      "[-5.0, -4.5, -4.0, -3.5, -3.0, -2.5, -2.0, -1.5, -1.0, -0.5, 0.0, 0.5, 1.0, 1.5, 2.0, 2.5]\n",
      "[-5.0, -4.5, -4.0, -3.5, -3.0, -2.5, -2.0, -1.5, -1.0, -0.5, 0.0, 0.5, 1.0, 1.5, 2.0, 2.5]\n",
      "[-5.0, -4.5, -4.0, -3.5, -3.0, -2.5, -2.0, -1.5, -1.0, -0.5, 0.0, 0.5, 1.0, 1.5, 2.0, 2.5]\n"
     ]
    }
   ],
   "source": [
    "for i in range(len(Cdegrees)):\n",
    "    print(Cdegrees)"
   ]
  },
  {
   "cell_type": "markdown",
   "id": "ffb51cf1",
   "metadata": {},
   "source": [
    "### Using zip construct"
   ]
  },
  {
   "cell_type": "code",
   "execution_count": 20,
   "id": "a8e997e5",
   "metadata": {},
   "outputs": [
    {
     "name": "stdout",
     "output_type": "stream",
     "text": [
      "-5.0 23.0\n",
      "-4.5 23.9\n",
      "-4.0 24.8\n",
      "-3.5 25.7\n",
      "-3.0 26.6\n",
      "-2.5 27.5\n",
      "-2.0 28.4\n",
      "-1.5 29.3\n",
      "-1.0 30.2\n",
      "-0.5 31.1\n",
      "0.0 32.0\n",
      "0.5 32.9\n",
      "1.0 33.8\n",
      "1.5 34.7\n",
      "2.0 35.6\n",
      "2.5 36.5\n"
     ]
    }
   ],
   "source": [
    "for C,F in zip(Cdegrees, Fdegrees):\n",
    "    print(C,F)"
   ]
  },
  {
   "cell_type": "code",
   "execution_count": 25,
   "id": "c6f914a8",
   "metadata": {},
   "outputs": [
    {
     "ename": "SyntaxError",
     "evalue": "cannot assign to literal (<ipython-input-25-505d1df3b9ca>, line 1)",
     "output_type": "error",
     "traceback": [
      "\u001b[1;36m  File \u001b[1;32m\"<ipython-input-25-505d1df3b9ca>\"\u001b[1;36m, line \u001b[1;32m1\u001b[0m\n\u001b[1;33m    11 =[1,2,3]; 12=[4,5,6]; 13=[7,8,9]\u001b[0m\n\u001b[1;37m    ^\u001b[0m\n\u001b[1;31mSyntaxError\u001b[0m\u001b[1;31m:\u001b[0m cannot assign to literal\n"
     ]
    }
   ],
   "source": [
    "11 =[1,2,3]; 12=[4,5,6]; 13=[7,8,9]\n",
    "for e1,e2,e3 in zip(11,12,13):\n",
    "    print(e1,e2,e3)"
   ]
  },
  {
   "cell_type": "markdown",
   "id": "befce986",
   "metadata": {},
   "source": [
    "### Nested list"
   ]
  },
  {
   "cell_type": "code",
   "execution_count": 27,
   "id": "aefab186",
   "metadata": {},
   "outputs": [
    {
     "name": "stdout",
     "output_type": "stream",
     "text": [
      "[range(-20, 41, 5), [-4.0, 5.0, 14.0, 23.0, 32.0, 41.0, 50.0, 59.0, 68.0, 77.0, 86.0, 95.0, 104.0]]\n"
     ]
    }
   ],
   "source": [
    "Cdegrees = range(-20,41,5)\n",
    "Fdegrees = [9/5*C + 32 for C in Cdegrees]\n",
    "table1 = [Cdegrees,Fdegrees]\n",
    "print(table1)"
   ]
  },
  {
   "cell_type": "code",
   "execution_count": 28,
   "id": "f177360d",
   "metadata": {},
   "outputs": [
    {
     "name": "stdout",
     "output_type": "stream",
     "text": [
      "range(-20, 41, 5)\n"
     ]
    }
   ],
   "source": [
    "print(table1[0])"
   ]
  },
  {
   "cell_type": "code",
   "execution_count": 30,
   "id": "71482aad",
   "metadata": {},
   "outputs": [
    {
     "name": "stdout",
     "output_type": "stream",
     "text": [
      "[-4.0, 5.0, 14.0, 23.0, 32.0, 41.0, 50.0, 59.0, 68.0, 77.0, 86.0, 95.0, 104.0]\n"
     ]
    }
   ],
   "source": [
    "print(table1[1])"
   ]
  },
  {
   "cell_type": "code",
   "execution_count": 31,
   "id": "674368c8",
   "metadata": {},
   "outputs": [
    {
     "data": {
      "text/plain": [
       "-4.0"
      ]
     },
     "execution_count": 31,
     "metadata": {},
     "output_type": "execute_result"
    }
   ],
   "source": [
    "table1[1][0]"
   ]
  },
  {
   "cell_type": "markdown",
   "id": "e5cb42b3",
   "metadata": {},
   "source": [
    "### table of columns vs table of rows"
   ]
  },
  {
   "cell_type": "code",
   "execution_count": 32,
   "id": "80a4fcf3",
   "metadata": {},
   "outputs": [],
   "source": [
    "table2=[]\n",
    "for C,F in zip(Cdegrees, Fdegrees):\n",
    "    row = (C,F)\n",
    "    table2.append(row)"
   ]
  },
  {
   "cell_type": "code",
   "execution_count": 33,
   "id": "b52a4c27",
   "metadata": {},
   "outputs": [
    {
     "data": {
      "text/plain": [
       "[(-20, -4.0),\n",
       " (-15, 5.0),\n",
       " (-10, 14.0),\n",
       " (-5, 23.0),\n",
       " (0, 32.0),\n",
       " (5, 41.0),\n",
       " (10, 50.0),\n",
       " (15, 59.0),\n",
       " (20, 68.0),\n",
       " (25, 77.0),\n",
       " (30, 86.0),\n",
       " (35, 95.0),\n",
       " (40, 104.0)]"
      ]
     },
     "execution_count": 33,
     "metadata": {},
     "output_type": "execute_result"
    }
   ],
   "source": [
    "table2"
   ]
  },
  {
   "cell_type": "code",
   "execution_count": 34,
   "id": "54c577ea",
   "metadata": {},
   "outputs": [
    {
     "data": {
      "text/plain": [
       "13"
      ]
     },
     "execution_count": 34,
     "metadata": {},
     "output_type": "execute_result"
    }
   ],
   "source": [
    "len(table2)"
   ]
  },
  {
   "cell_type": "code",
   "execution_count": 35,
   "id": "ffafbb98",
   "metadata": {},
   "outputs": [
    {
     "data": {
      "text/plain": [
       "2"
      ]
     },
     "execution_count": 35,
     "metadata": {},
     "output_type": "execute_result"
    }
   ],
   "source": [
    "len(table1)"
   ]
  },
  {
   "cell_type": "markdown",
   "id": "ce818f78",
   "metadata": {},
   "source": [
    "### List Slicing(extracting sublists)"
   ]
  },
  {
   "cell_type": "markdown",
   "id": "45226675",
   "metadata": {},
   "source": [
    "#### copy as sublist from original list"
   ]
  },
  {
   "cell_type": "code",
   "execution_count": 36,
   "id": "6e390475",
   "metadata": {},
   "outputs": [
    {
     "data": {
      "text/plain": [
       "[0, 1, 2, 3, 4, 5, 6, 7]"
      ]
     },
     "execution_count": 36,
     "metadata": {},
     "output_type": "execute_result"
    }
   ],
   "source": [
    "A = [0,1,2,3,4,5,6,7,]\n",
    "A"
   ]
  },
  {
   "cell_type": "code",
   "execution_count": 37,
   "id": "48a716b2",
   "metadata": {},
   "outputs": [
    {
     "data": {
      "text/plain": [
       "8"
      ]
     },
     "execution_count": 37,
     "metadata": {},
     "output_type": "execute_result"
    }
   ],
   "source": [
    "len(A)"
   ]
  },
  {
   "cell_type": "code",
   "execution_count": 38,
   "id": "2014ae3e",
   "metadata": {},
   "outputs": [
    {
     "data": {
      "text/plain": [
       "0"
      ]
     },
     "execution_count": 38,
     "metadata": {},
     "output_type": "execute_result"
    }
   ],
   "source": [
    "A[0]"
   ]
  },
  {
   "cell_type": "code",
   "execution_count": 39,
   "id": "d2d04ad8",
   "metadata": {},
   "outputs": [
    {
     "data": {
      "text/plain": [
       "7"
      ]
     },
     "execution_count": 39,
     "metadata": {},
     "output_type": "execute_result"
    }
   ],
   "source": [
    "A[7]"
   ]
  },
  {
   "cell_type": "code",
   "execution_count": 40,
   "id": "ad15c09e",
   "metadata": {},
   "outputs": [
    {
     "data": {
      "text/plain": [
       "[2, 3]"
      ]
     },
     "execution_count": 40,
     "metadata": {},
     "output_type": "execute_result"
    }
   ],
   "source": [
    "A[2:4]"
   ]
  },
  {
   "cell_type": "code",
   "execution_count": 41,
   "id": "b6322af0",
   "metadata": {},
   "outputs": [
    {
     "data": {
      "text/plain": [
       "[0, 1, 2, 3, 4, 5]"
      ]
     },
     "execution_count": 41,
     "metadata": {},
     "output_type": "execute_result"
    }
   ],
   "source": [
    "A[0:6]"
   ]
  },
  {
   "cell_type": "code",
   "execution_count": 42,
   "id": "87566d5a",
   "metadata": {},
   "outputs": [
    {
     "data": {
      "text/plain": [
       "[4, 5, 6, 7]"
      ]
     },
     "execution_count": 42,
     "metadata": {},
     "output_type": "execute_result"
    }
   ],
   "source": [
    "A[4:]"
   ]
  },
  {
   "cell_type": "code",
   "execution_count": 43,
   "id": "0c8ed996",
   "metadata": {},
   "outputs": [
    {
     "data": {
      "text/plain": [
       "[0, 1, 2, 3, 4]"
      ]
     },
     "execution_count": 43,
     "metadata": {},
     "output_type": "execute_result"
    }
   ],
   "source": [
    "A[:5]\n"
   ]
  },
  {
   "cell_type": "code",
   "execution_count": 44,
   "id": "3a87e1a4",
   "metadata": {},
   "outputs": [
    {
     "data": {
      "text/plain": [
       "[0, 1, 2, 3, 4, 5, 6, 7]"
      ]
     },
     "execution_count": 44,
     "metadata": {},
     "output_type": "execute_result"
    }
   ],
   "source": [
    "A[:]"
   ]
  },
  {
   "cell_type": "code",
   "execution_count": 45,
   "id": "6204eb41",
   "metadata": {},
   "outputs": [
    {
     "data": {
      "text/plain": [
       "[(-20, -4.0),\n",
       " (-15, 5.0),\n",
       " (-10, 14.0),\n",
       " (-5, 23.0),\n",
       " (0, 32.0),\n",
       " (5, 41.0),\n",
       " (10, 50.0),\n",
       " (15, 59.0),\n",
       " (20, 68.0),\n",
       " (25, 77.0),\n",
       " (30, 86.0),\n",
       " (35, 95.0),\n",
       " (40, 104.0)]"
      ]
     },
     "execution_count": 45,
     "metadata": {},
     "output_type": "execute_result"
    }
   ],
   "source": [
    "table2"
   ]
  },
  {
   "cell_type": "code",
   "execution_count": 47,
   "id": "0497ac23",
   "metadata": {},
   "outputs": [
    {
     "name": "stdout",
     "output_type": "stream",
     "text": [
      "10 50.0\n",
      "15 59.0\n",
      "20 68.0\n",
      "25 77.0\n",
      "30 86.0\n"
     ]
    }
   ],
   "source": [
    "for C,F in table2[Cdegrees.index(10):Cdegrees.index(35)]:\n",
    "    print(C,F)"
   ]
  },
  {
   "cell_type": "code",
   "execution_count": 50,
   "id": "b7e8300f",
   "metadata": {},
   "outputs": [
    {
     "name": "stdout",
     "output_type": "stream",
     "text": [
      "1\n",
      "2\n",
      "8\n",
      "5\n",
      "7\n",
      "-2\n",
      "-3\n",
      "-4\n",
      "23\n",
      "34\n"
     ]
    }
   ],
   "source": [
    "L = [[[1,2],[8,5,7]],[[-2,-3,-4],[23,34]]]\n",
    "for i in L:\n",
    "    for row in i:\n",
    "        for col in row:\n",
    "            print(col)"
   ]
  },
  {
   "cell_type": "code",
   "execution_count": 53,
   "id": "83209902",
   "metadata": {},
   "outputs": [
    {
     "data": {
      "text/plain": [
       "1"
      ]
     },
     "execution_count": 53,
     "metadata": {},
     "output_type": "execute_result"
    }
   ],
   "source": [
    "L[0][0][0]"
   ]
  },
  {
   "cell_type": "code",
   "execution_count": 52,
   "id": "ecf5aaa0",
   "metadata": {},
   "outputs": [
    {
     "data": {
      "text/plain": [
       "[23, 34]"
      ]
     },
     "execution_count": 52,
     "metadata": {},
     "output_type": "execute_result"
    }
   ],
   "source": [
    "L[1][1]"
   ]
  },
  {
   "cell_type": "code",
   "execution_count": 62,
   "id": "b28711be",
   "metadata": {},
   "outputs": [],
   "source": [
    "L.append([1,5,3,0,4,5])"
   ]
  },
  {
   "cell_type": "code",
   "execution_count": 63,
   "id": "fa07eece",
   "metadata": {},
   "outputs": [
    {
     "data": {
      "text/plain": [
       "[[[1, 2], [8, 5, 7]], [[-2, -3, -4], [23, 34]], [1, 5, 3, 0, 4, 5]]"
      ]
     },
     "execution_count": 63,
     "metadata": {},
     "output_type": "execute_result"
    }
   ],
   "source": [
    "L"
   ]
  },
  {
   "cell_type": "code",
   "execution_count": 64,
   "id": "77364c85",
   "metadata": {},
   "outputs": [],
   "source": [
    "L[0][0]=10"
   ]
  },
  {
   "cell_type": "code",
   "execution_count": 65,
   "id": "36bc98df",
   "metadata": {},
   "outputs": [
    {
     "data": {
      "text/plain": [
       "[[10, [8, 5, 7]], [[-2, -3, -4], [23, 34]], [1, 5, 3, 0, 4, 5]]"
      ]
     },
     "execution_count": 65,
     "metadata": {},
     "output_type": "execute_result"
    }
   ],
   "source": [
    "L"
   ]
  },
  {
   "cell_type": "code",
   "execution_count": 68,
   "id": "78a6d2ed",
   "metadata": {},
   "outputs": [
    {
     "data": {
      "text/plain": [
       "0"
      ]
     },
     "execution_count": 68,
     "metadata": {},
     "output_type": "execute_result"
    }
   ],
   "source": [
    "L[0].index(10)"
   ]
  },
  {
   "cell_type": "markdown",
   "id": "daa24606",
   "metadata": {},
   "source": [
    "### List exercises"
   ]
  },
  {
   "cell_type": "code",
   "execution_count": 55,
   "id": "4982c656",
   "metadata": {},
   "outputs": [
    {
     "name": "stdout",
     "output_type": "stream",
     "text": [
      "15\n"
     ]
    }
   ],
   "source": [
    "A = [1,2,3,4,5]\n",
    "s = 0\n",
    "for i in range(0,len(A),1):\n",
    "    s = s+A[i]\n",
    "print(s)\n"
   ]
  },
  {
   "cell_type": "code",
   "execution_count": 56,
   "id": "41d9472d",
   "metadata": {},
   "outputs": [
    {
     "name": "stdout",
     "output_type": "stream",
     "text": [
      "120\n"
     ]
    }
   ],
   "source": [
    "M = [1,2,3,4,5]\n",
    "m = 1\n",
    "for i in range(0,len(M),1):\n",
    "    m = m*A[i]\n",
    "print(m)\n"
   ]
  },
  {
   "cell_type": "code",
   "execution_count": 7,
   "id": "755de9ff",
   "metadata": {},
   "outputs": [
    {
     "name": "stdout",
     "output_type": "stream",
     "text": [
      "-9\n"
     ]
    }
   ],
   "source": [
    "list = [2, -9 ,6 ,0]\n",
    "smallest = list[0]\n",
    "for i in list:\n",
    "    if i < smallest:\n",
    "        smallest = i\n",
    "print(smallest)\n"
   ]
  },
  {
   "cell_type": "code",
   "execution_count": 4,
   "id": "6b10b008",
   "metadata": {},
   "outputs": [
    {
     "data": {
      "text/plain": [
       "[2, -9, 6, 0]"
      ]
     },
     "execution_count": 4,
     "metadata": {},
     "output_type": "execute_result"
    }
   ],
   "source": [
    "list"
   ]
  },
  {
   "cell_type": "code",
   "execution_count": 5,
   "id": "2b48e98f",
   "metadata": {},
   "outputs": [
    {
     "data": {
      "text/plain": [
       "2"
      ]
     },
     "execution_count": 5,
     "metadata": {},
     "output_type": "execute_result"
    }
   ],
   "source": [
    "list[0]"
   ]
  },
  {
   "cell_type": "code",
   "execution_count": 13,
   "id": "d9da2b32",
   "metadata": {},
   "outputs": [
    {
     "name": "stdout",
     "output_type": "stream",
     "text": [
      "2\n"
     ]
    }
   ],
   "source": [
    "StringList = ['abc','xyz','aba','1221']\n",
    "count=0\n",
    "for i in StringList:\n",
    "    if len(i)>=2 and i[0]==i[-1]:\n",
    "        count+=1\n",
    "              \n",
    "print(count)"
   ]
  },
  {
   "cell_type": "code",
   "execution_count": null,
   "id": "59d45602",
   "metadata": {},
   "outputs": [],
   "source": []
  },
  {
   "cell_type": "markdown",
   "id": "54e53b50",
   "metadata": {},
   "source": [
    "### ............................................................................"
   ]
  },
  {
   "cell_type": "markdown",
   "id": "e18ad2c8",
   "metadata": {},
   "source": [
    "### Tuples are constant lists"
   ]
  },
  {
   "cell_type": "code",
   "execution_count": 69,
   "id": "63aad57c",
   "metadata": {},
   "outputs": [
    {
     "data": {
      "text/plain": [
       "(2, 4, 6, 'book.pdf')"
      ]
     },
     "execution_count": 69,
     "metadata": {},
     "output_type": "execute_result"
    }
   ],
   "source": [
    "t = (2,4,6,'book.pdf')\n",
    "t"
   ]
  },
  {
   "cell_type": "code",
   "execution_count": 70,
   "id": "dc14f68e",
   "metadata": {},
   "outputs": [
    {
     "ename": "AttributeError",
     "evalue": "'tuple' object has no attribute 'append'",
     "output_type": "error",
     "traceback": [
      "\u001b[1;31m---------------------------------------------------------------------------\u001b[0m",
      "\u001b[1;31mAttributeError\u001b[0m                            Traceback (most recent call last)",
      "\u001b[1;32m<ipython-input-70-d8ffdd464b1f>\u001b[0m in \u001b[0;36m<module>\u001b[1;34m\u001b[0m\n\u001b[1;32m----> 1\u001b[1;33m \u001b[0mt\u001b[0m\u001b[1;33m.\u001b[0m\u001b[0mappend\u001b[0m\u001b[1;33m(\u001b[0m\u001b[1;34m'food.pdf'\u001b[0m\u001b[1;33m)\u001b[0m\u001b[1;33m\u001b[0m\u001b[1;33m\u001b[0m\u001b[0m\n\u001b[0m",
      "\u001b[1;31mAttributeError\u001b[0m: 'tuple' object has no attribute 'append'"
     ]
    }
   ],
   "source": [
    "t.append('food.pdf')"
   ]
  },
  {
   "cell_type": "code",
   "execution_count": 71,
   "id": "e008b926",
   "metadata": {},
   "outputs": [
    {
     "ename": "TypeError",
     "evalue": "'tuple' object does not support item assignment",
     "output_type": "error",
     "traceback": [
      "\u001b[1;31m---------------------------------------------------------------------------\u001b[0m",
      "\u001b[1;31mTypeError\u001b[0m                                 Traceback (most recent call last)",
      "\u001b[1;32m<ipython-input-71-531e22094236>\u001b[0m in \u001b[0;36m<module>\u001b[1;34m\u001b[0m\n\u001b[1;32m----> 1\u001b[1;33m \u001b[0mt\u001b[0m\u001b[1;33m[\u001b[0m\u001b[1;36m0\u001b[0m\u001b[1;33m]\u001b[0m\u001b[1;33m=\u001b[0m\u001b[1;36m1\u001b[0m\u001b[1;33m\u001b[0m\u001b[1;33m\u001b[0m\u001b[0m\n\u001b[0m",
      "\u001b[1;31mTypeError\u001b[0m: 'tuple' object does not support item assignment"
     ]
    }
   ],
   "source": [
    "t[0]=1"
   ]
  },
  {
   "cell_type": "code",
   "execution_count": 72,
   "id": "4c81ad09",
   "metadata": {},
   "outputs": [
    {
     "ename": "TypeError",
     "evalue": "'tuple' object doesn't support item deletion",
     "output_type": "error",
     "traceback": [
      "\u001b[1;31m---------------------------------------------------------------------------\u001b[0m",
      "\u001b[1;31mTypeError\u001b[0m                                 Traceback (most recent call last)",
      "\u001b[1;32m<ipython-input-72-8662a823a507>\u001b[0m in \u001b[0;36m<module>\u001b[1;34m\u001b[0m\n\u001b[1;32m----> 1\u001b[1;33m \u001b[1;32mdel\u001b[0m \u001b[0mt\u001b[0m\u001b[1;33m[\u001b[0m\u001b[1;33m-\u001b[0m\u001b[1;36m1\u001b[0m\u001b[1;33m]\u001b[0m\u001b[1;33m\u001b[0m\u001b[1;33m\u001b[0m\u001b[0m\n\u001b[0m",
      "\u001b[1;31mTypeError\u001b[0m: 'tuple' object doesn't support item deletion"
     ]
    }
   ],
   "source": [
    "del t[-1]"
   ]
  },
  {
   "cell_type": "code",
   "execution_count": 73,
   "id": "5a46ad22",
   "metadata": {},
   "outputs": [
    {
     "data": {
      "text/plain": [
       "(4, 6, 'book.pdf')"
      ]
     },
     "execution_count": 73,
     "metadata": {},
     "output_type": "execute_result"
    }
   ],
   "source": [
    "t[1:]"
   ]
  },
  {
   "cell_type": "code",
   "execution_count": 74,
   "id": "8b50cc98",
   "metadata": {},
   "outputs": [],
   "source": [
    "t = t+('food.pdf',23)"
   ]
  },
  {
   "cell_type": "code",
   "execution_count": 75,
   "id": "e60b283e",
   "metadata": {},
   "outputs": [
    {
     "data": {
      "text/plain": [
       "(2, 4, 6, 'book.pdf', 'food.pdf', 23)"
      ]
     },
     "execution_count": 75,
     "metadata": {},
     "output_type": "execute_result"
    }
   ],
   "source": [
    "t"
   ]
  },
  {
   "cell_type": "code",
   "execution_count": 76,
   "id": "b3e374f1",
   "metadata": {},
   "outputs": [
    {
     "ename": "NameError",
     "evalue": "name 'food' is not defined",
     "output_type": "error",
     "traceback": [
      "\u001b[1;31m---------------------------------------------------------------------------\u001b[0m",
      "\u001b[1;31mNameError\u001b[0m                                 Traceback (most recent call last)",
      "\u001b[1;32m<ipython-input-76-6cfd535538e9>\u001b[0m in \u001b[0;36m<module>\u001b[1;34m\u001b[0m\n\u001b[1;32m----> 1\u001b[1;33m \u001b[0mfood\u001b[0m\u001b[1;33m.\u001b[0m\u001b[0mpdf\u001b[0m \u001b[1;32min\u001b[0m \u001b[0mt\u001b[0m\u001b[1;33m\u001b[0m\u001b[1;33m\u001b[0m\u001b[0m\n\u001b[0m",
      "\u001b[1;31mNameError\u001b[0m: name 'food' is not defined"
     ]
    }
   ],
   "source": [
    "food.pdf in t"
   ]
  },
  {
   "cell_type": "code",
   "execution_count": 77,
   "id": "7b5ef124",
   "metadata": {},
   "outputs": [
    {
     "data": {
      "text/plain": [
       "True"
      ]
     },
     "execution_count": 77,
     "metadata": {},
     "output_type": "execute_result"
    }
   ],
   "source": [
    "'food.pdf'in t"
   ]
  },
  {
   "cell_type": "code",
   "execution_count": 78,
   "id": "fb307183",
   "metadata": {},
   "outputs": [
    {
     "data": {
      "text/plain": [
       "False"
      ]
     },
     "execution_count": 78,
     "metadata": {},
     "output_type": "execute_result"
    }
   ],
   "source": [
    "3 in t"
   ]
  },
  {
   "cell_type": "code",
   "execution_count": 83,
   "id": "fa2531d1",
   "metadata": {},
   "outputs": [
    {
     "data": {
      "text/plain": [
       "(2, 4, 6, 'book.pdf', 'food.pdf', 23)"
      ]
     },
     "execution_count": 83,
     "metadata": {},
     "output_type": "execute_result"
    }
   ],
   "source": [
    "t"
   ]
  },
  {
   "cell_type": "code",
   "execution_count": 85,
   "id": "d2c1be13",
   "metadata": {},
   "outputs": [
    {
     "data": {
      "text/plain": [
       "(2, 4, 6, 'book.pdf', 'food.pdf')"
      ]
     },
     "execution_count": 85,
     "metadata": {},
     "output_type": "execute_result"
    }
   ],
   "source": [
    "t[t.index(2):t.index(23)]"
   ]
  },
  {
   "cell_type": "code",
   "execution_count": 82,
   "id": "8db73429",
   "metadata": {},
   "outputs": [
    {
     "data": {
      "text/plain": [
       "(1, 2, 3, 4, 5, 6)"
      ]
     },
     "execution_count": 82,
     "metadata": {},
     "output_type": "execute_result"
    }
   ],
   "source": [
    "t2 = 1,2,3,4,5,6\n",
    "t2"
   ]
  },
  {
   "cell_type": "markdown",
   "id": "142986ec",
   "metadata": {},
   "source": [
    "### List functionality"
   ]
  },
  {
   "cell_type": "code",
   "execution_count": 86,
   "id": "52efc5c0",
   "metadata": {},
   "outputs": [
    {
     "data": {
      "text/plain": [
       "[1, 2, 3, 4, 5, 6, 7, 6, 5, 4, 3, 2, 1]"
      ]
     },
     "execution_count": 86,
     "metadata": {},
     "output_type": "execute_result"
    }
   ],
   "source": [
    "a = [1,2,3,4,5,6,7,6,5,4,3,2,1]\n",
    "a"
   ]
  },
  {
   "cell_type": "code",
   "execution_count": 87,
   "id": "4469c923",
   "metadata": {},
   "outputs": [
    {
     "data": {
      "text/plain": [
       "13"
      ]
     },
     "execution_count": 87,
     "metadata": {},
     "output_type": "execute_result"
    }
   ],
   "source": [
    "len(a)"
   ]
  },
  {
   "cell_type": "code",
   "execution_count": 88,
   "id": "c906f5b5",
   "metadata": {},
   "outputs": [
    {
     "data": {
      "text/plain": [
       "5"
      ]
     },
     "execution_count": 88,
     "metadata": {},
     "output_type": "execute_result"
    }
   ],
   "source": [
    "a.index(6)"
   ]
  },
  {
   "cell_type": "code",
   "execution_count": 89,
   "id": "50822d78",
   "metadata": {},
   "outputs": [],
   "source": [
    "a.insert(6,8)"
   ]
  },
  {
   "cell_type": "code",
   "execution_count": 90,
   "id": "21556bf6",
   "metadata": {},
   "outputs": [
    {
     "data": {
      "text/plain": [
       "[1, 2, 3, 4, 5, 6, 8, 7, 6, 5, 4, 3, 2, 1]"
      ]
     },
     "execution_count": 90,
     "metadata": {},
     "output_type": "execute_result"
    }
   ],
   "source": [
    "a"
   ]
  },
  {
   "cell_type": "code",
   "execution_count": 91,
   "id": "d1d61516",
   "metadata": {},
   "outputs": [],
   "source": [
    "a.remove(8)"
   ]
  },
  {
   "cell_type": "code",
   "execution_count": 92,
   "id": "fd77819c",
   "metadata": {},
   "outputs": [
    {
     "data": {
      "text/plain": [
       "[1, 2, 3, 4, 5, 6, 7, 6, 5, 4, 3, 2, 1]"
      ]
     },
     "execution_count": 92,
     "metadata": {},
     "output_type": "execute_result"
    }
   ],
   "source": [
    "a"
   ]
  },
  {
   "cell_type": "code",
   "execution_count": 93,
   "id": "8446e64c",
   "metadata": {},
   "outputs": [
    {
     "data": {
      "text/plain": [
       "2"
      ]
     },
     "execution_count": 93,
     "metadata": {},
     "output_type": "execute_result"
    }
   ],
   "source": [
    "a.count(6)"
   ]
  },
  {
   "cell_type": "code",
   "execution_count": 94,
   "id": "4c650e58",
   "metadata": {},
   "outputs": [
    {
     "data": {
      "text/plain": [
       "2"
      ]
     },
     "execution_count": 94,
     "metadata": {},
     "output_type": "execute_result"
    }
   ],
   "source": [
    "a.count(1)"
   ]
  },
  {
   "cell_type": "code",
   "execution_count": 95,
   "id": "0c6ec7aa",
   "metadata": {},
   "outputs": [
    {
     "data": {
      "text/plain": [
       "1"
      ]
     },
     "execution_count": 95,
     "metadata": {},
     "output_type": "execute_result"
    }
   ],
   "source": [
    "min(a)"
   ]
  },
  {
   "cell_type": "code",
   "execution_count": 96,
   "id": "e1ec797d",
   "metadata": {},
   "outputs": [
    {
     "data": {
      "text/plain": [
       "7"
      ]
     },
     "execution_count": 96,
     "metadata": {},
     "output_type": "execute_result"
    }
   ],
   "source": [
    "max(a)"
   ]
  },
  {
   "cell_type": "code",
   "execution_count": 97,
   "id": "1a944d6b",
   "metadata": {},
   "outputs": [
    {
     "data": {
      "text/plain": [
       "49"
      ]
     },
     "execution_count": 97,
     "metadata": {},
     "output_type": "execute_result"
    }
   ],
   "source": [
    "sum(a)"
   ]
  },
  {
   "cell_type": "code",
   "execution_count": 98,
   "id": "6a0efe33",
   "metadata": {},
   "outputs": [
    {
     "data": {
      "text/plain": [
       "[1, 1, 2, 2, 3, 3, 4, 4, 5, 5, 6, 6, 7]"
      ]
     },
     "execution_count": 98,
     "metadata": {},
     "output_type": "execute_result"
    }
   ],
   "source": [
    "sorted(a)"
   ]
  },
  {
   "cell_type": "code",
   "execution_count": 99,
   "id": "8bf2d4eb",
   "metadata": {},
   "outputs": [
    {
     "data": {
      "text/plain": [
       "<list_reverseiterator at 0x1a8512313d0>"
      ]
     },
     "execution_count": 99,
     "metadata": {},
     "output_type": "execute_result"
    }
   ],
   "source": [
    "reversed(a)"
   ]
  },
  {
   "cell_type": "code",
   "execution_count": 101,
   "id": "bd249689",
   "metadata": {},
   "outputs": [
    {
     "data": {
      "text/plain": [
       "True"
      ]
     },
     "execution_count": 101,
     "metadata": {},
     "output_type": "execute_result"
    }
   ],
   "source": [
    "isinstance(a, list)"
   ]
  },
  {
   "cell_type": "code",
   "execution_count": 102,
   "id": "97c20e59",
   "metadata": {},
   "outputs": [
    {
     "data": {
      "text/plain": [
       "True"
      ]
     },
     "execution_count": 102,
     "metadata": {},
     "output_type": "execute_result"
    }
   ],
   "source": [
    "type(a) is list"
   ]
  },
  {
   "cell_type": "code",
   "execution_count": 103,
   "id": "047fcd1c",
   "metadata": {},
   "outputs": [
    {
     "name": "stdout",
     "output_type": "stream",
     "text": [
      "[2, 4, 6, 8]\n",
      "(2, 4, 6, 8)\n"
     ]
    }
   ],
   "source": [
    "mylist = [2,4,6,8]\n",
    "mytuple=  2,4,6,8\n",
    "print(mylist)\n",
    "print(mytuple)"
   ]
  },
  {
   "cell_type": "code",
   "execution_count": 104,
   "id": "b9336dda",
   "metadata": {},
   "outputs": [],
   "source": [
    "mylist.append(10)"
   ]
  },
  {
   "cell_type": "code",
   "execution_count": 105,
   "id": "a5a0f873",
   "metadata": {},
   "outputs": [
    {
     "data": {
      "text/plain": [
       "[2, 4, 6, 8, 10]"
      ]
     },
     "execution_count": 105,
     "metadata": {},
     "output_type": "execute_result"
    }
   ],
   "source": [
    "mylist"
   ]
  },
  {
   "cell_type": "code",
   "execution_count": 106,
   "id": "28b09828",
   "metadata": {},
   "outputs": [
    {
     "ename": "AttributeError",
     "evalue": "'tuple' object has no attribute 'append'",
     "output_type": "error",
     "traceback": [
      "\u001b[1;31m---------------------------------------------------------------------------\u001b[0m",
      "\u001b[1;31mAttributeError\u001b[0m                            Traceback (most recent call last)",
      "\u001b[1;32m<ipython-input-106-c3a88a150370>\u001b[0m in \u001b[0;36m<module>\u001b[1;34m\u001b[0m\n\u001b[1;32m----> 1\u001b[1;33m \u001b[0mmytuple\u001b[0m\u001b[1;33m.\u001b[0m\u001b[0mappend\u001b[0m\u001b[1;33m(\u001b[0m\u001b[1;36m10\u001b[0m\u001b[1;33m)\u001b[0m\u001b[1;33m\u001b[0m\u001b[1;33m\u001b[0m\u001b[0m\n\u001b[0m",
      "\u001b[1;31mAttributeError\u001b[0m: 'tuple' object has no attribute 'append'"
     ]
    }
   ],
   "source": [
    "mytuple.append(10)"
   ]
  },
  {
   "cell_type": "code",
   "execution_count": null,
   "id": "1d6b4b65",
   "metadata": {},
   "outputs": [],
   "source": []
  }
 ],
 "metadata": {
  "kernelspec": {
   "display_name": "Python 3",
   "language": "python",
   "name": "python3"
  },
  "language_info": {
   "codemirror_mode": {
    "name": "ipython",
    "version": 3
   },
   "file_extension": ".py",
   "mimetype": "text/x-python",
   "name": "python",
   "nbconvert_exporter": "python",
   "pygments_lexer": "ipython3",
   "version": "3.8.8"
  }
 },
 "nbformat": 4,
 "nbformat_minor": 5
}
