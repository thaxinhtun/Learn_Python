{
 "cells": [
  {
   "cell_type": "markdown",
   "id": "64fba440",
   "metadata": {},
   "source": [
    "#### function are collection of statements "
   ]
  },
  {
   "cell_type": "code",
   "execution_count": 1,
   "id": "86a3ada9",
   "metadata": {},
   "outputs": [
    {
     "name": "stdout",
     "output_type": "stream",
     "text": [
      "32.0\n"
     ]
    }
   ],
   "source": [
    "def F(C):\n",
    "    return 9/5*C + 32\n",
    "print(F(0))"
   ]
  },
  {
   "cell_type": "code",
   "execution_count": 2,
   "id": "be26ca8e",
   "metadata": {},
   "outputs": [
    {
     "data": {
      "text/plain": [
       "212.0"
      ]
     },
     "execution_count": 2,
     "metadata": {},
     "output_type": "execute_result"
    }
   ],
   "source": [
    "F(100)"
   ]
  },
  {
   "cell_type": "markdown",
   "id": "edf86e95",
   "metadata": {},
   "source": [
    "#### function take inputs(arguments) and produce outputs(return values)"
   ]
  },
  {
   "cell_type": "markdown",
   "id": "d4e301ee",
   "metadata": {},
   "source": [
    "##### function can have as many arguments as you like"
   ]
  },
  {
   "cell_type": "code",
   "execution_count": 3,
   "id": "0baf171f",
   "metadata": {},
   "outputs": [],
   "source": [
    "def yfunc(t,v0):\n",
    "    g = 9.81\n",
    "    return v0*t - 0.5*g*t**2\n",
    "\n"
   ]
  },
  {
   "cell_type": "code",
   "execution_count": 4,
   "id": "952188ff",
   "metadata": {},
   "outputs": [],
   "source": [
    "y = yfunc(0.1,6)"
   ]
  },
  {
   "cell_type": "markdown",
   "id": "c1f1ae80",
   "metadata": {},
   "source": [
    "#### calling func with positional arguments"
   ]
  },
  {
   "cell_type": "code",
   "execution_count": 5,
   "id": "cb0cb5bd",
   "metadata": {},
   "outputs": [
    {
     "name": "stdout",
     "output_type": "stream",
     "text": [
      "0.55095\n"
     ]
    }
   ],
   "source": [
    "print(y)"
   ]
  },
  {
   "cell_type": "code",
   "execution_count": 6,
   "id": "8a940f4a",
   "metadata": {},
   "outputs": [
    {
     "name": "stdout",
     "output_type": "stream",
     "text": [
      "-175.98000000000002\n"
     ]
    }
   ],
   "source": [
    "y1 = yfunc(6, 0.1)\n",
    "print(y1)"
   ]
  },
  {
   "cell_type": "markdown",
   "id": "50aaa17d",
   "metadata": {},
   "source": [
    "#### calling func with key arguments"
   ]
  },
  {
   "cell_type": "code",
   "execution_count": 7,
   "id": "d8773842",
   "metadata": {},
   "outputs": [
    {
     "name": "stdout",
     "output_type": "stream",
     "text": [
      "0.55095 0.55095 0.55095\n"
     ]
    }
   ],
   "source": [
    "y2 = yfunc(0.1,v0=6)\n",
    "y3 = yfunc(t=0.1,v0=6)\n",
    "y4 = yfunc(v0=6,t=0.1)\n",
    "print(y2,y3,y4)"
   ]
  },
  {
   "cell_type": "code",
   "execution_count": 8,
   "id": "8fd2667e",
   "metadata": {},
   "outputs": [
    {
     "data": {
      "text/plain": [
       "<function __main__.F(C)>"
      ]
     },
     "execution_count": 8,
     "metadata": {},
     "output_type": "execute_result"
    }
   ],
   "source": [
    "F"
   ]
  },
  {
   "cell_type": "code",
   "execution_count": 9,
   "id": "50506ad1",
   "metadata": {},
   "outputs": [
    {
     "ename": "NameError",
     "evalue": "name 'C' is not defined",
     "output_type": "error",
     "traceback": [
      "\u001b[1;31m---------------------------------------------------------------------------\u001b[0m",
      "\u001b[1;31mNameError\u001b[0m                                 Traceback (most recent call last)",
      "\u001b[1;32m<ipython-input-9-6fa8c5733662>\u001b[0m in \u001b[0;36m<module>\u001b[1;34m\u001b[0m\n\u001b[1;32m----> 1\u001b[1;33m \u001b[0mC\u001b[0m\u001b[1;33m\u001b[0m\u001b[1;33m\u001b[0m\u001b[0m\n\u001b[0m",
      "\u001b[1;31mNameError\u001b[0m: name 'C' is not defined"
     ]
    }
   ],
   "source": [
    "C"
   ]
  },
  {
   "cell_type": "code",
   "execution_count": 10,
   "id": "125ae10b",
   "metadata": {},
   "outputs": [
    {
     "ename": "NameError",
     "evalue": "name 't' is not defined",
     "output_type": "error",
     "traceback": [
      "\u001b[1;31m---------------------------------------------------------------------------\u001b[0m",
      "\u001b[1;31mNameError\u001b[0m                                 Traceback (most recent call last)",
      "\u001b[1;32m<ipython-input-10-34fc7a11cb38>\u001b[0m in \u001b[0;36m<module>\u001b[1;34m\u001b[0m\n\u001b[1;32m----> 1\u001b[1;33m \u001b[0mt\u001b[0m\u001b[1;33m\u001b[0m\u001b[1;33m\u001b[0m\u001b[0m\n\u001b[0m",
      "\u001b[1;31mNameError\u001b[0m: name 't' is not defined"
     ]
    }
   ],
   "source": [
    "t"
   ]
  },
  {
   "cell_type": "code",
   "execution_count": 11,
   "id": "990015be",
   "metadata": {},
   "outputs": [
    {
     "ename": "NameError",
     "evalue": "name 'v0' is not defined",
     "output_type": "error",
     "traceback": [
      "\u001b[1;31m---------------------------------------------------------------------------\u001b[0m",
      "\u001b[1;31mNameError\u001b[0m                                 Traceback (most recent call last)",
      "\u001b[1;32m<ipython-input-11-186dc0d38c48>\u001b[0m in \u001b[0;36m<module>\u001b[1;34m\u001b[0m\n\u001b[1;32m----> 1\u001b[1;33m \u001b[0mv0\u001b[0m\u001b[1;33m\u001b[0m\u001b[1;33m\u001b[0m\u001b[0m\n\u001b[0m",
      "\u001b[1;31mNameError\u001b[0m: name 'v0' is not defined"
     ]
    }
   ],
   "source": [
    "v0"
   ]
  },
  {
   "cell_type": "code",
   "execution_count": 12,
   "id": "4d80ef43",
   "metadata": {},
   "outputs": [
    {
     "data": {
      "text/plain": [
       "0.55095"
      ]
     },
     "execution_count": 12,
     "metadata": {},
     "output_type": "execute_result"
    }
   ],
   "source": [
    "y"
   ]
  },
  {
   "cell_type": "code",
   "execution_count": 13,
   "id": "3c8ae310",
   "metadata": {},
   "outputs": [
    {
     "data": {
      "text/plain": [
       "-175.98000000000002"
      ]
     },
     "execution_count": 13,
     "metadata": {},
     "output_type": "execute_result"
    }
   ],
   "source": [
    "y1"
   ]
  },
  {
   "cell_type": "code",
   "execution_count": 14,
   "id": "309939ef",
   "metadata": {},
   "outputs": [
    {
     "data": {
      "text/plain": [
       "0.55095"
      ]
     },
     "execution_count": 14,
     "metadata": {},
     "output_type": "execute_result"
    }
   ],
   "source": [
    "y2"
   ]
  },
  {
   "cell_type": "code",
   "execution_count": 15,
   "id": "b62f8a8b",
   "metadata": {},
   "outputs": [
    {
     "name": "stdout",
     "output_type": "stream",
     "text": [
      "0.25095\n"
     ]
    }
   ],
   "source": [
    "def yfunc(t,v0):\n",
    "    g = 9.81\n",
    "    return v0*t - 0.5*g*t**2\n",
    "v0 = 6\n",
    "t =0.1\n",
    "print(yfunc(t,3))"
   ]
  },
  {
   "cell_type": "code",
   "execution_count": 16,
   "id": "db047597",
   "metadata": {},
   "outputs": [
    {
     "data": {
      "text/plain": [
       "0.1"
      ]
     },
     "execution_count": 16,
     "metadata": {},
     "output_type": "execute_result"
    }
   ],
   "source": [
    "t"
   ]
  },
  {
   "cell_type": "code",
   "execution_count": 17,
   "id": "bcdbdf7c",
   "metadata": {},
   "outputs": [
    {
     "data": {
      "text/plain": [
       "6"
      ]
     },
     "execution_count": 17,
     "metadata": {},
     "output_type": "execute_result"
    }
   ],
   "source": [
    "v0"
   ]
  },
  {
   "cell_type": "code",
   "execution_count": 18,
   "id": "b1d70b31",
   "metadata": {},
   "outputs": [
    {
     "ename": "NameError",
     "evalue": "name 'g' is not defined",
     "output_type": "error",
     "traceback": [
      "\u001b[1;31m---------------------------------------------------------------------------\u001b[0m",
      "\u001b[1;31mNameError\u001b[0m                                 Traceback (most recent call last)",
      "\u001b[1;32m<ipython-input-18-a5938ace3f42>\u001b[0m in \u001b[0;36m<module>\u001b[1;34m\u001b[0m\n\u001b[1;32m----> 1\u001b[1;33m \u001b[0mg\u001b[0m\u001b[1;33m\u001b[0m\u001b[1;33m\u001b[0m\u001b[0m\n\u001b[0m",
      "\u001b[1;31mNameError\u001b[0m: name 'g' is not defined"
     ]
    }
   ],
   "source": [
    "g"
   ]
  },
  {
   "cell_type": "markdown",
   "id": "699d2f1a",
   "metadata": {},
   "source": [
    "### Functions can access global variables"
   ]
  },
  {
   "cell_type": "code",
   "execution_count": 1,
   "id": "dd782f91",
   "metadata": {},
   "outputs": [
    {
     "data": {
      "text/plain": [
       "1.2342"
      ]
     },
     "execution_count": 1,
     "metadata": {},
     "output_type": "execute_result"
    }
   ],
   "source": [
    "def yfunc(t):\n",
    "    g=9.81\n",
    "    return v0*t - 0.5*g*t**2\n",
    "v0 = 5\n",
    "t = 0.6\n",
    "yfunc(t)"
   ]
  },
  {
   "cell_type": "code",
   "execution_count": 3,
   "id": "52cccbf2",
   "metadata": {},
   "outputs": [
    {
     "name": "stdout",
     "output_type": "stream",
     "text": [
      "1. local vriable inside func 0.6\n",
      "2. local vriable inside func after assignment 0.1\n",
      "0.45094999999999996\n",
      "1. global t 0.6\n",
      "1. local vriable inside func 0.3\n",
      "2. local vriable inside func after assignment 0.1\n",
      "2. globalt 0.6\n"
     ]
    }
   ],
   "source": [
    "def yfunc(t):\n",
    "    print('1. local vriable inside func',t)\n",
    "    g=9.81\n",
    "    t=0.1\n",
    "    print('2. local vriable inside func after assignment',t)\n",
    "    return v0*t - 0.5*g*t**2\n",
    "t =0.6\n",
    "print(yfunc(t))\n",
    "print('1. global t',t)\n",
    "yfunc(0.3)\n",
    "print('2. globalt',t)"
   ]
  },
  {
   "cell_type": "code",
   "execution_count": 4,
   "id": "df9813e0",
   "metadata": {},
   "outputs": [
    {
     "name": "stdout",
     "output_type": "stream",
     "text": [
      "1.global v befor fun call  2\n",
      "3.6341999999999994\n",
      "2.global v after func call  9\n"
     ]
    }
   ],
   "source": [
    "def yfunc(t):\n",
    "    g=9.81\n",
    "    global v0\n",
    "    v0 = 9\n",
    "    return v0*t - 0.5*g*t**2\n",
    "\n",
    "v0 = 2\n",
    "print('1.global v befor fun call ',v0)\n",
    "print(yfunc(0.6))\n",
    "print('2.global v after func call ',v0)\n"
   ]
  },
  {
   "cell_type": "markdown",
   "id": "868d7e51",
   "metadata": {},
   "source": [
    "### Functions can return multiple values"
   ]
  },
  {
   "cell_type": "code",
   "execution_count": 6,
   "id": "ca850e52",
   "metadata": {},
   "outputs": [],
   "source": [
    "def yfunc(t,v0):\n",
    "    g = 9.81\n",
    "    y = v0*t - 0.5*g*t**2\n",
    "    dydt = v0 - g*t\n",
    "    return y,dydt\n",
    "\n",
    "velocity,diff = yfunc(0.6,3)"
   ]
  },
  {
   "cell_type": "code",
   "execution_count": 9,
   "id": "f090a838",
   "metadata": {},
   "outputs": [
    {
     "data": {
      "text/plain": [
       "1.2342"
      ]
     },
     "execution_count": 9,
     "metadata": {},
     "output_type": "execute_result"
    }
   ],
   "source": [
    "velocity"
   ]
  },
  {
   "cell_type": "code",
   "execution_count": 8,
   "id": "78d64224",
   "metadata": {},
   "outputs": [
    {
     "data": {
      "text/plain": [
       "-0.8860000000000001"
      ]
     },
     "execution_count": 8,
     "metadata": {},
     "output_type": "execute_result"
    }
   ],
   "source": [
    "diff"
   ]
  },
  {
   "cell_type": "code",
   "execution_count": 10,
   "id": "c5c78921",
   "metadata": {},
   "outputs": [
    {
     "data": {
      "text/plain": [
       "1.2342"
      ]
     },
     "execution_count": 10,
     "metadata": {},
     "output_type": "execute_result"
    }
   ],
   "source": [
    "velocity"
   ]
  },
  {
   "cell_type": "code",
   "execution_count": 11,
   "id": "727dece3",
   "metadata": {},
   "outputs": [],
   "source": [
    "def f(x):\n",
    "    return x,x**2,x**3\n",
    "s = f(2)"
   ]
  },
  {
   "cell_type": "code",
   "execution_count": 12,
   "id": "5cfbde5b",
   "metadata": {},
   "outputs": [
    {
     "data": {
      "text/plain": [
       "(2, 4, 8)"
      ]
     },
     "execution_count": 12,
     "metadata": {},
     "output_type": "execute_result"
    }
   ],
   "source": [
    "s"
   ]
  },
  {
   "cell_type": "code",
   "execution_count": 13,
   "id": "0e34e411",
   "metadata": {},
   "outputs": [
    {
     "data": {
      "text/plain": [
       "tuple"
      ]
     },
     "execution_count": 13,
     "metadata": {},
     "output_type": "execute_result"
    }
   ],
   "source": [
    "type(s)"
   ]
  },
  {
   "cell_type": "code",
   "execution_count": 14,
   "id": "37d8d36e",
   "metadata": {},
   "outputs": [
    {
     "data": {
      "text/plain": [
       "False"
      ]
     },
     "execution_count": 14,
     "metadata": {},
     "output_type": "execute_result"
    }
   ],
   "source": [
    "s is tuple"
   ]
  },
  {
   "cell_type": "markdown",
   "id": "1ccd187f",
   "metadata": {},
   "source": [
    "### Compute func as sum"
   ]
  },
  {
   "cell_type": "code",
   "execution_count": 17,
   "id": "36ea4e9f",
   "metadata": {},
   "outputs": [
    {
     "name": "stdout",
     "output_type": "stream",
     "text": [
      "1.7368363532538857 1.7917594686571028 1.791759469228055\n"
     ]
    }
   ],
   "source": [
    "def L(x,n):\n",
    "    x = float(x)\n",
    "    s = 0\n",
    "    for i in range(1,n+1):\n",
    "        s += (1.0/i)*(x/(1+x))**i\n",
    "    return s\n",
    "\n",
    "x= 5\n",
    "from math import log as ln\n",
    "print(L(x,10),L(x,100),ln(1+x))\n",
    "    \n"
   ]
  },
  {
   "cell_type": "markdown",
   "id": "86df6564",
   "metadata": {},
   "source": [
    "### Returning errors "
   ]
  },
  {
   "cell_type": "code",
   "execution_count": 20,
   "id": "f63551d4",
   "metadata": {},
   "outputs": [
    {
     "name": "stdout",
     "output_type": "stream",
     "text": [
      "0.7884573603642699 2.560316847491615e-29 3.3306690738754696e-16\n"
     ]
    }
   ],
   "source": [
    "def L2(x,n):\n",
    "    x = float(x)\n",
    "    s = 0\n",
    "    for i in range(1,n+1):\n",
    "        s += (1.0/i)*(x/(1+x))**i\n",
    "    value_of_sum = s\n",
    "    first_neglected_term= (1.0/(n+1))*(x/(1+x))**(n+1)\n",
    "    from math import log\n",
    "    exact_error = log(1+x) - value_of_sum\n",
    "    return value_of_sum,first_neglected_term,exact_error\n",
    "\n",
    "x=1.2;n=100\n",
    "value, apporatiate_error,exact_errors=L2(x,n)\n",
    "print(value, apporatiate_error,exact_errors)\n"
   ]
  },
  {
   "cell_type": "markdown",
   "id": "3cdf2556",
   "metadata": {},
   "source": [
    "### Function do not need to return objects"
   ]
  },
  {
   "cell_type": "code",
   "execution_count": 23,
   "id": "bad6d18e",
   "metadata": {},
   "outputs": [
    {
     "name": "stdout",
     "output_type": "stream",
     "text": [
      "\n",
      " x=10 ln(1+x)=2.3979\n",
      "n=1    0.909091   (next term:   4.13e-01,error:   1.49e+00)\n",
      "n=2    1.32231    (next term:   2.50e-01,error:   1.08e+00)\n",
      "n=10   2.17907    (next term:   3.19e-02,error:   2.19e-01)\n",
      "n=100  2.39789    (next term:   6.53e-07,error:   6.59e-06)\n",
      "n=500  2.3979     (next term:   3.65e-24,error:   6.22e-15)\n"
     ]
    }
   ],
   "source": [
    "from math import log\n",
    "def table(x):\n",
    "    print('\\n x=%g ln(1+x)=%g' %(x,log(1+x)))\n",
    "    for n in [1,2,10,100,500]:\n",
    "        value,next,error=L2(x,n)\n",
    "        print(\"n=%-4d %-10g (next term: %10.2e,error: %10.2e)\"%(n,value,next,error))\n",
    "table(10)\n",
    "    "
   ]
  },
  {
   "cell_type": "markdown",
   "id": "0010252f",
   "metadata": {},
   "source": [
    "### Keyword argument are useful to func to make flexiale (name=value) "
   ]
  },
  {
   "cell_type": "code",
   "execution_count": 24,
   "id": "937b853a",
   "metadata": {},
   "outputs": [],
   "source": [
    "def somefunc(arg1,arg2,key1='True',key2=0):\n",
    "    print(arg1,arg2,key1,key2)\n",
    "    "
   ]
  },
  {
   "cell_type": "code",
   "execution_count": 25,
   "id": "f1c3f819",
   "metadata": {},
   "outputs": [
    {
     "name": "stdout",
     "output_type": "stream",
     "text": [
      "hello [1, 2] True 0\n"
     ]
    }
   ],
   "source": [
    "somefunc(\"hello\",[1,2])"
   ]
  },
  {
   "cell_type": "code",
   "execution_count": 26,
   "id": "319a1b76",
   "metadata": {},
   "outputs": [
    {
     "name": "stdout",
     "output_type": "stream",
     "text": [
      "hello [1, 2] hi 0\n"
     ]
    }
   ],
   "source": [
    "somefunc(\"hello\",[1,2],key1=\"hi\")"
   ]
  },
  {
   "cell_type": "code",
   "execution_count": 27,
   "id": "5030a039",
   "metadata": {},
   "outputs": [
    {
     "name": "stdout",
     "output_type": "stream",
     "text": [
      "hello [1, 2] True hi\n"
     ]
    }
   ],
   "source": [
    "somefunc(\"hello\",[1,2],key2=\"hi\")"
   ]
  },
  {
   "cell_type": "code",
   "execution_count": 28,
   "id": "dae9db18",
   "metadata": {},
   "outputs": [
    {
     "name": "stdout",
     "output_type": "stream",
     "text": [
      "[1, 2] [2] True hello\n"
     ]
    }
   ],
   "source": [
    "somefunc(key2=\"hello\",arg1=[1,2],key1=True,arg2=[2])"
   ]
  },
  {
   "cell_type": "markdown",
   "id": "2e65a94e",
   "metadata": {},
   "source": [
    "### function of one variable but additional parameters"
   ]
  },
  {
   "cell_type": "code",
   "execution_count": 29,
   "id": "70292d9e",
   "metadata": {},
   "outputs": [],
   "source": [
    "from math import pi,exp,sin\n",
    "def f(t,A=1,a=1,omega=2*pi):\n",
    "    return A*exp(-a*t)*sin(omega*t)\n",
    "\n",
    "v1 = f(0.2)\n",
    "v2 = f(0.2,omega=1)\n",
    "v3 = f(0.2,1,3)\n",
    "v4 = f(0.2, omega=1,A=2.1)\n",
    "v5 = f(A=5 , a=0.1,omega=1,t=1.3)\n",
    "v6 = f(t=0.2,A=9)\n"
   ]
  },
  {
   "cell_type": "code",
   "execution_count": 30,
   "id": "b6e60b27",
   "metadata": {},
   "outputs": [
    {
     "data": {
      "text/plain": [
       "0.778659217806053"
      ]
     },
     "execution_count": 30,
     "metadata": {},
     "output_type": "execute_result"
    }
   ],
   "source": [
    "v1\n"
   ]
  },
  {
   "cell_type": "code",
   "execution_count": 31,
   "id": "d6bb8538",
   "metadata": {},
   "outputs": [
    {
     "data": {
      "text/plain": [
       "0.16265669081533915"
      ]
     },
     "execution_count": 31,
     "metadata": {},
     "output_type": "execute_result"
    }
   ],
   "source": [
    "v2"
   ]
  },
  {
   "cell_type": "code",
   "execution_count": 32,
   "id": "4d366a1f",
   "metadata": {},
   "outputs": [
    {
     "data": {
      "text/plain": [
       "0.5219508827258282"
      ]
     },
     "execution_count": 32,
     "metadata": {},
     "output_type": "execute_result"
    }
   ],
   "source": [
    "v3"
   ]
  },
  {
   "cell_type": "code",
   "execution_count": 33,
   "id": "a2c0690f",
   "metadata": {},
   "outputs": [
    {
     "data": {
      "text/plain": [
       "0.34157905071221223"
      ]
     },
     "execution_count": 33,
     "metadata": {},
     "output_type": "execute_result"
    }
   ],
   "source": [
    "v4"
   ]
  },
  {
   "cell_type": "code",
   "execution_count": 34,
   "id": "5efce11a",
   "metadata": {},
   "outputs": [
    {
     "data": {
      "text/plain": [
       "4.230480200204721"
      ]
     },
     "execution_count": 34,
     "metadata": {},
     "output_type": "execute_result"
    }
   ],
   "source": [
    "v5"
   ]
  },
  {
   "cell_type": "code",
   "execution_count": 35,
   "id": "b4955b33",
   "metadata": {},
   "outputs": [
    {
     "data": {
      "text/plain": [
       "7.007932960254476"
      ]
     },
     "execution_count": 35,
     "metadata": {},
     "output_type": "execute_result"
    }
   ],
   "source": [
    "v6"
   ]
  },
  {
   "cell_type": "code",
   "execution_count": 36,
   "id": "2281e27e",
   "metadata": {},
   "outputs": [
    {
     "ename": "NameError",
     "evalue": "name 'v7' is not defined",
     "output_type": "error",
     "traceback": [
      "\u001b[1;31m---------------------------------------------------------------------------\u001b[0m",
      "\u001b[1;31mNameError\u001b[0m                                 Traceback (most recent call last)",
      "\u001b[1;32m<ipython-input-36-e1cd50d40e20>\u001b[0m in \u001b[0;36m<module>\u001b[1;34m\u001b[0m\n\u001b[1;32m----> 1\u001b[1;33m \u001b[0mv7\u001b[0m\u001b[1;33m\u001b[0m\u001b[1;33m\u001b[0m\u001b[0m\n\u001b[0m",
      "\u001b[1;31mNameError\u001b[0m: name 'v7' is not defined"
     ]
    }
   ],
   "source": [
    "v7"
   ]
  },
  {
   "cell_type": "code",
   "execution_count": 38,
   "id": "282e16c1",
   "metadata": {},
   "outputs": [
    {
     "ename": "SyntaxError",
     "evalue": "positional argument follows keyword argument (<ipython-input-38-bc9d67ae4715>, line 1)",
     "output_type": "error",
     "traceback": [
      "\u001b[1;36m  File \u001b[1;32m\"<ipython-input-38-bc9d67ae4715>\"\u001b[1;36m, line \u001b[1;32m1\u001b[0m\n\u001b[1;33m    v7 = f(A=5, 0.2)\u001b[0m\n\u001b[1;37m                ^\u001b[0m\n\u001b[1;31mSyntaxError\u001b[0m\u001b[1;31m:\u001b[0m positional argument follows keyword argument\n"
     ]
    }
   ],
   "source": [
    "v7 = f(A=5, 0.2)"
   ]
  },
  {
   "cell_type": "markdown",
   "id": "34abd90d",
   "metadata": {},
   "source": [
    "### Python functions as arguments to func"
   ]
  },
  {
   "cell_type": "code",
   "execution_count": 39,
   "id": "acdcd92b",
   "metadata": {},
   "outputs": [],
   "source": [
    "def diff2(f,x,h=1E-6):\n",
    "    r=(f(x-h)-2*f(x)+f(x+h))/h**2\n",
    "    return r\n"
   ]
  },
  {
   "cell_type": "code",
   "execution_count": 40,
   "id": "e6721e62",
   "metadata": {},
   "outputs": [
    {
     "name": "stdout",
     "output_type": "stream",
     "text": [
      "h=1e-01: 44.61504:\n",
      "h=1e-02: 42.02521:\n",
      "h=1e-03: 42.00025:\n",
      "h=1e-04: 42.00000:\n",
      "h=1e-05: 41.99999:\n",
      "h=1e-06: 42.00074:\n",
      "h=1e-07: 41.94423:\n",
      "h=1e-08: 47.73959:\n",
      "h=1e-09: -666.13381:\n",
      "h=1e-10: 0.00000:\n",
      "h=1e-11: 0.00000:\n",
      "h=1e-12: -666133814.77509:\n",
      "h=1e-13: 66613381477.50939:\n"
     ]
    }
   ],
   "source": [
    "def g(x):\n",
    "    return x**(-6)\n",
    "for k in range(1,14):\n",
    "    h=10**(-k)\n",
    "    print(\"h=%.0e: %.5f:\"%(h,diff2(g,1,h)))\n"
   ]
  },
  {
   "cell_type": "markdown",
   "id": "f0fb3f89",
   "metadata": {},
   "source": [
    "### Lambda can be defined func as one line."
   ]
  },
  {
   "cell_type": "code",
   "execution_count": 41,
   "id": "b208b90f",
   "metadata": {},
   "outputs": [],
   "source": [
    "def f(x):\n",
    "    return x**2 - 1\n",
    "v = f(2)"
   ]
  },
  {
   "cell_type": "code",
   "execution_count": 42,
   "id": "6f5b638a",
   "metadata": {},
   "outputs": [
    {
     "data": {
      "text/plain": [
       "3"
      ]
     },
     "execution_count": 42,
     "metadata": {},
     "output_type": "execute_result"
    }
   ],
   "source": [
    "v"
   ]
  },
  {
   "cell_type": "code",
   "execution_count": 43,
   "id": "56241193",
   "metadata": {},
   "outputs": [],
   "source": [
    "f = lambda x: x**2 -1"
   ]
  },
  {
   "cell_type": "markdown",
   "id": "1fcde3f4",
   "metadata": {},
   "source": [
    "#### Verbose standard code:\n",
    "    "
   ]
  },
  {
   "cell_type": "code",
   "execution_count": 44,
   "id": "92a2b1fe",
   "metadata": {},
   "outputs": [],
   "source": [
    "def g(t):\n",
    "    return t**(-6)\n",
    "\n",
    "dgdt = diff2(g,2)"
   ]
  },
  {
   "cell_type": "code",
   "execution_count": 45,
   "id": "290ccc8f",
   "metadata": {},
   "outputs": [
    {
     "data": {
      "text/plain": [
       "0.16405279912312665"
      ]
     },
     "execution_count": 45,
     "metadata": {},
     "output_type": "execute_result"
    }
   ],
   "source": [
    "dgdt"
   ]
  },
  {
   "cell_type": "markdown",
   "id": "ea36cd23",
   "metadata": {},
   "source": [
    "#### Compact lambda"
   ]
  },
  {
   "cell_type": "code",
   "execution_count": 46,
   "id": "2e856523",
   "metadata": {},
   "outputs": [],
   "source": [
    "dgdt = diff2(lambda t:t**(-6),2)"
   ]
  },
  {
   "cell_type": "code",
   "execution_count": 47,
   "id": "14acd499",
   "metadata": {},
   "outputs": [
    {
     "data": {
      "text/plain": [
       "0.16405279912312665"
      ]
     },
     "execution_count": 47,
     "metadata": {},
     "output_type": "execute_result"
    }
   ],
   "source": [
    "dgdt"
   ]
  },
  {
   "cell_type": "markdown",
   "id": "82030ebb",
   "metadata": {},
   "source": [
    "### Conditional Branching to control flow of statements"
   ]
  },
  {
   "cell_type": "code",
   "execution_count": 1,
   "id": "f241d3e9",
   "metadata": {},
   "outputs": [
    {
     "name": "stdout",
     "output_type": "stream",
     "text": [
      "0.479425538604203\n",
      "0.8414709848078965\n",
      "0\n"
     ]
    }
   ],
   "source": [
    "from math import sin,pi\n",
    "def f(x):\n",
    "    if 0<= x <= pi:\n",
    "        return sin(x)\n",
    "    else:\n",
    "        return 0\n",
    "print(f(0.5))\n",
    "print(f(1.0))\n",
    "print(f(2*pi))\n",
    "    "
   ]
  },
  {
   "cell_type": "markdown",
   "id": "3731bc3a",
   "metadata": {},
   "source": [
    "### if else if multiple branching"
   ]
  },
  {
   "cell_type": "code",
   "execution_count": 3,
   "id": "c9bf095a",
   "metadata": {},
   "outputs": [],
   "source": [
    "def N(x):\n",
    "    if x<0:\n",
    "        return 0;\n",
    "    elif 0<=x<1:\n",
    "        return x\n",
    "    elif 1<=x<2:\n",
    "        return 2-x\n",
    "    else:\n",
    "        return 0\n",
    "    \n",
    "    \n"
   ]
  },
  {
   "cell_type": "code",
   "execution_count": 4,
   "id": "411aeb00",
   "metadata": {},
   "outputs": [
    {
     "name": "stdout",
     "output_type": "stream",
     "text": [
      "0.3\n"
     ]
    }
   ],
   "source": [
    "print(N(0.3))"
   ]
  },
  {
   "cell_type": "markdown",
   "id": "9bcf918d",
   "metadata": {},
   "source": [
    "### Inline if test for shorter code"
   ]
  },
  {
   "cell_type": "code",
   "execution_count": 5,
   "id": "c229755c",
   "metadata": {},
   "outputs": [],
   "source": [
    "def f(x):\n",
    "    return(sin(x) if 0<=x<=2*pi else 0)"
   ]
  },
  {
   "cell_type": "code",
   "execution_count": 7,
   "id": "24da73c4",
   "metadata": {},
   "outputs": [
    {
     "data": {
      "text/plain": [
       "0"
      ]
     },
     "execution_count": 7,
     "metadata": {},
     "output_type": "execute_result"
    }
   ],
   "source": [
    "f(-1)"
   ]
  },
  {
   "cell_type": "markdown",
   "id": "e267bb83",
   "metadata": {},
   "source": [
    "### test func to verify func"
   ]
  },
  {
   "cell_type": "code",
   "execution_count": 8,
   "id": "17476b77",
   "metadata": {},
   "outputs": [],
   "source": [
    "def double(x):\n",
    "    return 2*x\n",
    "\n",
    "def test_double():\n",
    "    x = 4\n",
    "    expected = 8\n",
    "    computed = double(x)\n",
    "    success = expected==computed\n",
    "    msg = 'computed %s, expected %s'%(computed,expected)\n",
    "    assert success,msg"
   ]
  },
  {
   "cell_type": "code",
   "execution_count": 9,
   "id": "6fae2772",
   "metadata": {},
   "outputs": [
    {
     "data": {
      "text/plain": [
       "4"
      ]
     },
     "execution_count": 9,
     "metadata": {},
     "output_type": "execute_result"
    }
   ],
   "source": [
    "double(2)"
   ]
  },
  {
   "cell_type": "code",
   "execution_count": 11,
   "id": "d04de7dd",
   "metadata": {},
   "outputs": [
    {
     "data": {
      "text/plain": [
       "8"
      ]
     },
     "execution_count": 11,
     "metadata": {},
     "output_type": "execute_result"
    }
   ],
   "source": [
    "double(4)"
   ]
  },
  {
   "cell_type": "code",
   "execution_count": null,
   "id": "2dfc581c",
   "metadata": {},
   "outputs": [],
   "source": []
  }
 ],
 "metadata": {
  "kernelspec": {
   "display_name": "Python 3",
   "language": "python",
   "name": "python3"
  },
  "language_info": {
   "codemirror_mode": {
    "name": "ipython",
    "version": 3
   },
   "file_extension": ".py",
   "mimetype": "text/x-python",
   "name": "python",
   "nbconvert_exporter": "python",
   "pygments_lexer": "ipython3",
   "version": "3.8.8"
  }
 },
 "nbformat": 4,
 "nbformat_minor": 5
}
