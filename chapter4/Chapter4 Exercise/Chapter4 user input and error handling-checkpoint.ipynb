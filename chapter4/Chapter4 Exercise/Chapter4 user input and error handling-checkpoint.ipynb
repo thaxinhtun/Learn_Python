{
 "cells": [
  {
   "cell_type": "code",
   "execution_count": 1,
   "id": "d5157263",
   "metadata": {},
   "outputs": [
    {
     "name": "stdout",
     "output_type": "stream",
     "text": [
      "C? 100\n",
      "212.0\n"
     ]
    }
   ],
   "source": [
    "C = input(\"C? \")\n",
    "C = float(C)\n",
    "F = 9/5*C + 32\n",
    "print(F)"
   ]
  },
  {
   "cell_type": "markdown",
   "id": "31175ae1",
   "metadata": {},
   "source": [
    "### Print n first even number"
   ]
  },
  {
   "cell_type": "code",
   "execution_count": 2,
   "id": "3f4ae3ca",
   "metadata": {},
   "outputs": [
    {
     "name": "stdout",
     "output_type": "stream",
     "text": [
      "n? 5\n",
      "2\n",
      "4\n",
      "6\n",
      "8\n",
      "10\n"
     ]
    }
   ],
   "source": [
    "n = int(input(\"n? \"))\n",
    "for i in range(2,2*n+1 ,2):\n",
    "    print(i)\n"
   ]
  },
  {
   "cell_type": "code",
   "execution_count": 3,
   "id": "c62cc28b",
   "metadata": {},
   "outputs": [
    {
     "name": "stdout",
     "output_type": "stream",
     "text": [
      "range(2, 11, 2)\n"
     ]
    }
   ],
   "source": [
    "print(range(2,2*n+1,2))"
   ]
  },
  {
   "cell_type": "code",
   "execution_count": 6,
   "id": "2e4db562",
   "metadata": {},
   "outputs": [
    {
     "name": "stdout",
     "output_type": "stream",
     "text": [
      "2\n",
      "4\n",
      "6\n",
      "8\n",
      "10\n"
     ]
    }
   ],
   "source": [
    "for i in range(1,n+1):\n",
    "    print(i*2)\n"
   ]
  },
  {
   "cell_type": "markdown",
   "id": "ec1150f9",
   "metadata": {},
   "source": [
    "### magic eval() func"
   ]
  },
  {
   "cell_type": "code",
   "execution_count": 7,
   "id": "6d342798",
   "metadata": {},
   "outputs": [
    {
     "data": {
      "text/plain": [
       "3"
      ]
     },
     "execution_count": 7,
     "metadata": {},
     "output_type": "execute_result"
    }
   ],
   "source": [
    "s = '1+2'\n",
    "r= eval(s)\n",
    "r"
   ]
  },
  {
   "cell_type": "code",
   "execution_count": 8,
   "id": "816a8071",
   "metadata": {},
   "outputs": [
    {
     "data": {
      "text/plain": [
       "[1, 2, 3, 4, 5, 6, 7]"
      ]
     },
     "execution_count": 8,
     "metadata": {},
     "output_type": "execute_result"
    }
   ],
   "source": [
    "s =\"[1,2,3,4,5]+[6,7]\"\n",
    "r = eval(s)\n",
    "r"
   ]
  },
  {
   "cell_type": "code",
   "execution_count": 9,
   "id": "567f421c",
   "metadata": {},
   "outputs": [
    {
     "data": {
      "text/plain": [
       "str"
      ]
     },
     "execution_count": 9,
     "metadata": {},
     "output_type": "execute_result"
    }
   ],
   "source": [
    "type(s)"
   ]
  },
  {
   "cell_type": "code",
   "execution_count": 10,
   "id": "b6e5eadd",
   "metadata": {},
   "outputs": [
    {
     "data": {
      "text/plain": [
       "list"
      ]
     },
     "execution_count": 10,
     "metadata": {},
     "output_type": "execute_result"
    }
   ],
   "source": [
    "type(r)"
   ]
  },
  {
   "cell_type": "markdown",
   "id": "ef3ddb88",
   "metadata": {},
   "source": [
    "### eval func with string"
   ]
  },
  {
   "cell_type": "code",
   "execution_count": 11,
   "id": "72591e8a",
   "metadata": {},
   "outputs": [
    {
     "data": {
      "text/plain": [
       "'Math Programming'"
      ]
     },
     "execution_count": 11,
     "metadata": {},
     "output_type": "execute_result"
    }
   ],
   "source": [
    "s = \"'Math Programming'\"\n",
    "r = eval(s)\n",
    "r"
   ]
  },
  {
   "cell_type": "markdown",
   "id": "5df14add",
   "metadata": {},
   "source": [
    "### with eval add_input.py"
   ]
  },
  {
   "cell_type": "code",
   "execution_count": 13,
   "id": "6bde6c34",
   "metadata": {},
   "outputs": [
    {
     "name": "stdout",
     "output_type": "stream",
     "text": [
      "Give input1; 1,2,3,4\n",
      "Give input2; 5,6,7,8\n",
      "with eval, <class 'tuple'>  <class 'tuple'> \n",
      "beacome <class 'tuple'> with value of (1, 2, 3, 4, 5, 6, 7, 8)\n"
     ]
    }
   ],
   "source": [
    "i1 = eval(input(\"Give input1; \"))\n",
    "i2 = eval(input(\"Give input2; \"))\n",
    "r = i1+i2\n",
    "print(\"with eval, %s  %s \\nbeacome %s with value of %s\"%(type(i1),type(i2),type(r),r))"
   ]
  },
  {
   "cell_type": "markdown",
   "id": "adfe155a",
   "metadata": {},
   "source": [
    "### Magic func :exec"
   ]
  },
  {
   "cell_type": "code",
   "execution_count": 14,
   "id": "9b52545f",
   "metadata": {},
   "outputs": [
    {
     "name": "stdout",
     "output_type": "stream",
     "text": [
      "3\n"
     ]
    }
   ],
   "source": [
    "statement = 'r=1+2'\n",
    "exec(statement)\n",
    "print(r)"
   ]
  },
  {
   "cell_type": "markdown",
   "id": "735d2c0e",
   "metadata": {},
   "source": [
    "### exec() to input formula at runtime"
   ]
  },
  {
   "cell_type": "code",
   "execution_count": 16,
   "id": "2e09ef59",
   "metadata": {},
   "outputs": [
    {
     "name": "stdout",
     "output_type": "stream",
     "text": [
      "Write func including x: x**2\n",
      "Enter x(none to quit): 3\n",
      "f(3)=  9\n",
      "Enter x(none to quit): \n"
     ]
    },
    {
     "ename": "SyntaxError",
     "evalue": "unexpected EOF while parsing (<string>, line 0)",
     "output_type": "error",
     "traceback": [
      "Traceback \u001b[1;36m(most recent call last)\u001b[0m:\n",
      "  File \u001b[0;32m\"C:\\Users\\SC\\anaconda3\\lib\\site-packages\\IPython\\core\\interactiveshell.py\"\u001b[0m, line \u001b[0;32m3437\u001b[0m, in \u001b[0;35mrun_code\u001b[0m\n    exec(code_obj, self.user_global_ns, self.user_ns)\n",
      "\u001b[1;36m  File \u001b[1;32m\"<ipython-input-16-e871422f62b2>\"\u001b[1;36m, line \u001b[1;32m11\u001b[1;36m, in \u001b[1;35m<module>\u001b[1;36m\u001b[0m\n\u001b[1;33m    x=eval(input(\"Enter x(none to quit): \"))\u001b[0m\n",
      "\u001b[1;36m  File \u001b[1;32m\"<string>\"\u001b[1;36m, line \u001b[1;32munknown\u001b[0m\n\u001b[1;33m    \u001b[0m\n\u001b[1;37m    ^\u001b[0m\n\u001b[1;31mSyntaxError\u001b[0m\u001b[1;31m:\u001b[0m unexpected EOF while parsing\n"
     ]
    }
   ],
   "source": [
    "formula = input(\"Write func including x: \")\n",
    "code = \"\"\"\n",
    "def f(x):\n",
    "    return %s\n",
    "\"\"\"% formula\n",
    "\n",
    "from math import *\n",
    "exec(code)\n",
    "x=0\n",
    "while x is not None:\n",
    "    x=eval(input(\"Enter x(none to quit): \"))\n",
    "    if x is not None:\n",
    "        y = f(x)\n",
    "    print(\"f(%s)=  %s\"%(x,y))"
   ]
  },
  {
   "cell_type": "markdown",
   "id": "4a20c8de",
   "metadata": {},
   "source": [
    "### GUI "
   ]
  },
  {
   "cell_type": "code",
   "execution_count": 4,
   "id": "b3ec0a32",
   "metadata": {},
   "outputs": [
    {
     "name": "stderr",
     "output_type": "stream",
     "text": [
      "Exception in Tkinter callback\n",
      "Traceback (most recent call last):\n",
      "  File \"C:\\Users\\SC\\anaconda3\\lib\\tkinter\\__init__.py\", line 1892, in __call__\n",
      "    return self.func(*args)\n",
      "  File \"<ipython-input-4-37f07bbf411e>\", line 11, in compute\n",
      "    C = float(c_entry.get())\n",
      "ValueError: could not convert string to float: ''\n"
     ]
    }
   ],
   "source": [
    "from tkinter import *\n",
    "root = Tk()\n",
    "\n",
    "c_entry = Entry(root,width=4)\n",
    "c_entry.pack(side='left')\n",
    "\n",
    "c_unit_lable= Label(root,text ='celsicus')\n",
    "c_unit_lable.pack(side='left')\n",
    "\n",
    "def compute():\n",
    "    C = float(c_entry.get())\n",
    "    F = 9/5*C + 32\n",
    "    f_lable.configure(text='%g' %F)\n",
    "    \n",
    "\n",
    "compute = Button(root,text = 'is',command=compute)\n",
    "compute.pack(side='left',padx=4)\n",
    "\n",
    "f_lable= Label(root,width=4)\n",
    "f_lable.pack(side='left')\n",
    "\n",
    "f_unit_lable =Label(root,text='farenheit')\n",
    "f_unit_lable.pack(side='left')\n",
    "\n",
    "root.mainloop()\n"
   ]
  },
  {
   "cell_type": "markdown",
   "id": "f964a7f8",
   "metadata": {},
   "source": [
    "### Reading data from file"
   ]
  },
  {
   "cell_type": "code",
   "execution_count": 1,
   "id": "1bbdf1a9",
   "metadata": {},
   "outputs": [],
   "source": [
    "f = open(\"data.txt\",'w')\n",
    "f.write(\"\"\"27.8\n",
    "17.8\n",
    "14\n",
    "12\n",
    "32\n",
    "19.3\n",
    "\"\"\")\n",
    "f.close()"
   ]
  },
  {
   "cell_type": "markdown",
   "id": "c47b1900",
   "metadata": {},
   "source": [
    "### Basic file reading"
   ]
  },
  {
   "cell_type": "code",
   "execution_count": 3,
   "id": "637de75d",
   "metadata": {},
   "outputs": [
    {
     "name": "stdout",
     "output_type": "stream",
     "text": [
      "number is 27.80\n",
      "number is 17.80\n",
      "number is 14.00\n",
      "number is 12.00\n",
      "number is 32.00\n",
      "number is 19.30\n",
      "mean is 20.48\n"
     ]
    }
   ],
   "source": [
    "infile = open('data.txt','r')\n",
    "mean = 0\n",
    "lines = infile.readlines()\n",
    "infile.close()\n",
    "\n",
    "for line in lines:\n",
    "    number = float(line)\n",
    "    mean = mean+number\n",
    "    print(\"number is %.2f\" %number)\n",
    "mean = mean/len(lines)\n",
    "print(\"mean is %.2f\"%mean )"
   ]
  },
  {
   "cell_type": "markdown",
   "id": "2d0cc7f3",
   "metadata": {},
   "source": [
    "### Alternative ways to read data from files"
   ]
  },
  {
   "cell_type": "code",
   "execution_count": 4,
   "id": "7340e279",
   "metadata": {},
   "outputs": [
    {
     "name": "stdout",
     "output_type": "stream",
     "text": [
      "27.8\n",
      "\n"
     ]
    }
   ],
   "source": [
    "infile = open('data.txt','r')\n",
    "line = infile.readline() #read single line from file\n",
    "print(line)\n",
    "infile.close()"
   ]
  },
  {
   "cell_type": "code",
   "execution_count": 6,
   "id": "9b611d7c",
   "metadata": {},
   "outputs": [
    {
     "name": "stdout",
     "output_type": "stream",
     "text": [
      "['27.8\\n', '17.8\\n', '14\\n', '12\\n', '32\\n', '19.3\\n']\n"
     ]
    }
   ],
   "source": [
    "infile = open('data.txt','r')\n",
    "lines = infile.readlines()\n",
    "print(lines)\n",
    "infile.close()"
   ]
  },
  {
   "cell_type": "code",
   "execution_count": 7,
   "id": "b5a686b2",
   "metadata": {},
   "outputs": [],
   "source": [
    "infile = open('data.txt','r')\n",
    "text =  infile.read()\n",
    "infile.close()"
   ]
  },
  {
   "cell_type": "code",
   "execution_count": 8,
   "id": "2cc91dd2",
   "metadata": {},
   "outputs": [
    {
     "data": {
      "text/plain": [
       "'27.8\\n17.8\\n14\\n12\\n32\\n19.3\\n'"
      ]
     },
     "execution_count": 8,
     "metadata": {},
     "output_type": "execute_result"
    }
   ],
   "source": [
    "text"
   ]
  },
  {
   "cell_type": "markdown",
   "id": "ebebccd3",
   "metadata": {},
   "source": [
    "### modern method reading file"
   ]
  },
  {
   "cell_type": "code",
   "execution_count": 9,
   "id": "f65ef9a5",
   "metadata": {},
   "outputs": [
    {
     "name": "stdout",
     "output_type": "stream",
     "text": [
      "27.8\n",
      "\n",
      "17.8\n",
      "\n",
      "14\n",
      "\n",
      "12\n",
      "\n",
      "32\n",
      "\n",
      "19.3\n",
      "\n"
     ]
    }
   ],
   "source": [
    "infile = open('data.txt','r')\n",
    "while True:\n",
    "    \n",
    "    line = infile.readline()\n",
    "    if not line:\n",
    "        break\n",
    "    else:\n",
    "        print(line)\n",
    "infile.close()\n",
    "        \n",
    "    "
   ]
  },
  {
   "cell_type": "code",
   "execution_count": 10,
   "id": "f7edeb7e",
   "metadata": {},
   "outputs": [],
   "source": [
    "file = open('tmp.txt','w')\n",
    "file.write(\"\"\"line1.\n",
    "line2.\n",
    "line3.\n",
    "line4.\n",
    "line5.\n",
    "\"\"\")\n",
    "file.close()"
   ]
  },
  {
   "cell_type": "code",
   "execution_count": 12,
   "id": "d976adff",
   "metadata": {},
   "outputs": [
    {
     "name": "stdout",
     "output_type": "stream",
     "text": [
      "['line1.\\n', 'line2.\\n', 'line3.\\n', 'line4.\\n', 'line5.\\n']\n"
     ]
    }
   ],
   "source": [
    "inf = open('tmp.txt','r')\n",
    "lines = inf.readlines()\n",
    "inf.close()\n",
    "print(lines)"
   ]
  },
  {
   "cell_type": "code",
   "execution_count": 14,
   "id": "8cee3fea",
   "metadata": {},
   "outputs": [],
   "source": [
    "inf = open('tmp.txt','r')\n",
    "line = inf.readline()\n",
    "#inf.close()"
   ]
  },
  {
   "cell_type": "code",
   "execution_count": 15,
   "id": "822d4d01",
   "metadata": {},
   "outputs": [
    {
     "data": {
      "text/plain": [
       "'line1.\\n'"
      ]
     },
     "execution_count": 15,
     "metadata": {},
     "output_type": "execute_result"
    }
   ],
   "source": [
    "line\n"
   ]
  },
  {
   "cell_type": "code",
   "execution_count": 16,
   "id": "3a85de60",
   "metadata": {},
   "outputs": [],
   "source": [
    "infile = open('tmp.txt','r')\n",
    "text = infile.read()\n",
    "infile.close()"
   ]
  },
  {
   "cell_type": "code",
   "execution_count": 17,
   "id": "0c335a23",
   "metadata": {},
   "outputs": [
    {
     "data": {
      "text/plain": [
       "'line1.\\nline2.\\nline3.\\nline4.\\nline5.\\n'"
      ]
     },
     "execution_count": 17,
     "metadata": {},
     "output_type": "execute_result"
    }
   ],
   "source": [
    "text"
   ]
  },
  {
   "cell_type": "markdown",
   "id": "834d9529",
   "metadata": {},
   "source": [
    "### String splitting"
   ]
  },
  {
   "cell_type": "code",
   "execution_count": 18,
   "id": "a7712640",
   "metadata": {},
   "outputs": [
    {
     "data": {
      "text/plain": [
       "['line1.', 'line2.', 'line3.', 'line4.', 'line5.']"
      ]
     },
     "execution_count": 18,
     "metadata": {},
     "output_type": "execute_result"
    }
   ],
   "source": [
    "text.split()#white space character"
   ]
  },
  {
   "cell_type": "code",
   "execution_count": 19,
   "id": "d6375919",
   "metadata": {},
   "outputs": [
    {
     "data": {
      "text/plain": [
       "['Line', '3.']"
      ]
     },
     "execution_count": 19,
     "metadata": {},
     "output_type": "execute_result"
    }
   ],
   "source": [
    "line3 = 'Line 3.\\n'\n",
    "line3.split()"
   ]
  },
  {
   "cell_type": "code",
   "execution_count": 21,
   "id": "7d7f779d",
   "metadata": {},
   "outputs": [
    {
     "data": {
      "text/plain": [
       "['Lin', ' 3.\\n']"
      ]
     },
     "execution_count": 21,
     "metadata": {},
     "output_type": "execute_result"
    }
   ],
   "source": [
    "line3.split('e')"
   ]
  },
  {
   "cell_type": "code",
   "execution_count": 12,
   "id": "34523511",
   "metadata": {},
   "outputs": [],
   "source": [
    "outfile = open('rainfall.dat','w')\n",
    "outfile.write(\"\"\"Average rainfall (in mm) in Rome: 1188 months between 1782 and 1970\n",
    "Jan  81.2\n",
    "Feb  63.2\n",
    "Mar  70.3\n",
    "Apr  55.7\n",
    "May  53.0\n",
    "Jun  36.4\n",
    "Jul  17.5\n",
    "Aug  27.5\n",
    "Sep  60.9\n",
    "Oct  117.7\n",
    "Nov  111.0\n",
    "Dec  97.9\n",
    "Year 792.9\n",
    "\"\"\")\n",
    "outfile.close()"
   ]
  },
  {
   "cell_type": "code",
   "execution_count": 13,
   "id": "a9db3e96",
   "metadata": {},
   "outputs": [
    {
     "name": "stdout",
     "output_type": "stream",
     "text": [
      "The average rainfall for month: \n",
      "Jan 81.2\n",
      "Feb 63.2\n",
      "Mar 70.3\n",
      "Apr 55.7\n",
      "May 53.0\n",
      "Jun 36.4\n",
      "Jul 17.5\n",
      "Aug 27.5\n",
      "Sep 60.9\n",
      "Oct 117.7\n",
      "Nov 111.0\n",
      "Dec 97.9\n",
      "The average rainfall for year:  792.9\n"
     ]
    }
   ],
   "source": [
    "def extract_data(filename):\n",
    "    infile = open(filename,'r')\n",
    "    infile.readline()\n",
    "    months =[]\n",
    "    value = []\n",
    "    for line in infile:\n",
    "        words = line.split()\n",
    "        months.append(words[0])\n",
    "        value.append(float(words[1]))\n",
    "    infile.close()\n",
    "    months = months[:-1]\n",
    "    annual_avg = value[-1]\n",
    "    rainfall = value[:-1]\n",
    "    return months,rainfall,annual_avg\n",
    "\n",
    "months,values,avg = extract_data('rainfall.dat')\n",
    "print(\"The average rainfall for month: \")\n",
    "for m,v in zip(months,values):\n",
    "    print(m,v)\n",
    "print(\"The average rainfall for year: \",avg)"
   ]
  },
  {
   "cell_type": "markdown",
   "id": "0d0e602e",
   "metadata": {},
   "source": [
    "### Writing a table to file"
   ]
  },
  {
   "cell_type": "code",
   "execution_count": 15,
   "id": "ff2aead8",
   "metadata": {},
   "outputs": [],
   "source": [
    "outfile = open('tmp.dat','w')\n",
    "outfile.write(\"\"\"123\n",
    "456\n",
    "789\n",
    "0.12\n",
    "3.45\n",
    "6.78\n",
    "9.01\"\"\")\n",
    "outfile.close()"
   ]
  },
  {
   "cell_type": "code",
   "execution_count": 17,
   "id": "1597d755",
   "metadata": {},
   "outputs": [],
   "source": [
    "outfile = open('tmp.dat','a')\n",
    "outfile.write(\"\"\"\n",
    "1.23\n",
    "4.56\n",
    "5.67\"\"\")\n",
    "outfile.close()"
   ]
  },
  {
   "cell_type": "code",
   "execution_count": 23,
   "id": "63af7bce",
   "metadata": {},
   "outputs": [],
   "source": [
    "data = \\\n",
    "    [[0.75, 0.29619813, -0.29619813,-0.75],\n",
    "    [0.29619813, 0.1169778,-0.11969778,-0.29619813],\n",
    "    [-0.29619813,- 0.1169778,0.11969778,0.29619813],\n",
    "    [-0.75,-0.29619813, 0.29619813,0.75]]"
   ]
  },
  {
   "cell_type": "code",
   "execution_count": 25,
   "id": "b417ab8f",
   "metadata": {},
   "outputs": [],
   "source": [
    "outfile = open('tmp.dat','w')\n",
    "for row in data:\n",
    "    for col in row:\n",
    "        outfile.write(\"%14.8f\" %col)\n",
    "    outfile.write('\\n')\n",
    "outfile.close()"
   ]
  },
  {
   "cell_type": "markdown",
   "id": "33fb3d12",
   "metadata": {},
   "source": [
    "### Error handling for wrong input"
   ]
  },
  {
   "cell_type": "code",
   "execution_count": 4,
   "id": "f144e4f3",
   "metadata": {},
   "outputs": [
    {
     "ename": "SyntaxError",
     "evalue": "invalid syntax (<ipython-input-4-0a04d04e80d0>, line 12)",
     "output_type": "error",
     "traceback": [
      "\u001b[1;36m  File \u001b[1;32m\"<ipython-input-4-0a04d04e80d0>\"\u001b[1;36m, line \u001b[1;32m12\u001b[0m\n\u001b[1;33m    def annual_rate(A0,A,n):\u001b[0m\n\u001b[1;37m    ^\u001b[0m\n\u001b[1;31mSyntaxError\u001b[0m\u001b[1;31m:\u001b[0m invalid syntax\n"
     ]
    }
   ],
   "source": [
    "from math import log as ln\n",
    "\n",
    "def current_amount(A0,p,n):\n",
    "    return A0*(1+(p/(360.0*100)))**n\n",
    "\n",
    "def initial_amount(A,p,n):\n",
    "    return A*(1+(p/(360.0*100)))**(-n)\n",
    "\n",
    "def days(A0,A,p):\n",
    "    return ln(A/A0)/ln(1+(p/(360.0*100))\n",
    "\n",
    "def annual_rate(A0,A,n):\n",
    "    return 360*100*((A/A0)**(1.0/n)-1)\n",
    "\n",
    "\n"
   ]
  },
  {
   "cell_type": "code",
   "execution_count": 7,
   "id": "93adf4e5",
   "metadata": {},
   "outputs": [
    {
     "ename": "SyntaxError",
     "evalue": "invalid syntax (interest.py, line 13)",
     "output_type": "error",
     "traceback": [
      "Traceback \u001b[1;36m(most recent call last)\u001b[0m:\n",
      "  File \u001b[0;32m\"C:\\Users\\SC\\anaconda3\\lib\\site-packages\\IPython\\core\\interactiveshell.py\"\u001b[0m, line \u001b[0;32m3437\u001b[0m, in \u001b[0;35mrun_code\u001b[0m\n    exec(code_obj, self.user_global_ns, self.user_ns)\n",
      "\u001b[1;36m  File \u001b[1;32m\"<ipython-input-7-9f96a1ef42e8>\"\u001b[1;36m, line \u001b[1;32m1\u001b[1;36m, in \u001b[1;35m<module>\u001b[1;36m\u001b[0m\n\u001b[1;33m    from interest import *\u001b[0m\n",
      "\u001b[1;36m  File \u001b[1;32m\"E:\\PythonCode\\chapter4\\interest.py\"\u001b[1;36m, line \u001b[1;32m13\u001b[0m\n\u001b[1;33m    def annual_rate(A0,A,n):\u001b[0m\n\u001b[1;37m    ^\u001b[0m\n\u001b[1;31mSyntaxError\u001b[0m\u001b[1;31m:\u001b[0m invalid syntax\n"
     ]
    }
   ],
   "source": [
    "from interest import days\n",
    "\n",
    "A0=1; A=2; p=5\n",
    "d = days(A0,2,p)\n",
    "years = d/361.0\n",
    "print(\"Money has double after %1f years\" %d)\n",
    "\n",
    "def test_all_functions():\n",
    "    A = 2.213398305326669;A0 = 2.0; p=5;n =730\n",
    "    A_computed = current_amount(A0,p,n)\n",
    "    A0_computed = initial_amount(A,p,n)\n",
    "    n_computed = days(A0,A,p)\n",
    "    p_computed = annual_rate(A0,A,n)\n",
    "    def float_eq(a,b,tolerance=1E-12):\n",
    "        return abs(a-b)<tolerance\n",
    "    success = float_eq(A_computed,A) and\\\n",
    "               float_eq(A0_computed,A0) and \\\n",
    "               float_eq(p_computed,p) and\\\n",
    "               float_eq(n_computed,n)\n",
    "    assert success\n",
    "if _name_ == '_main_':\n",
    "    test_all_function()"
   ]
  },
  {
   "cell_type": "code",
   "execution_count": 21,
   "id": "f4f95637",
   "metadata": {},
   "outputs": [],
   "source": []
  },
  {
   "cell_type": "code",
   "execution_count": null,
   "id": "e948ea57",
   "metadata": {},
   "outputs": [],
   "source": []
  }
 ],
 "metadata": {
  "kernelspec": {
   "display_name": "Python 3",
   "language": "python",
   "name": "python3"
  },
  "language_info": {
   "codemirror_mode": {
    "name": "ipython",
    "version": 3
   },
   "file_extension": ".py",
   "mimetype": "text/x-python",
   "name": "python",
   "nbconvert_exporter": "python",
   "pygments_lexer": "ipython3",
   "version": "3.8.8"
  }
 },
 "nbformat": 4,
 "nbformat_minor": 5
}
